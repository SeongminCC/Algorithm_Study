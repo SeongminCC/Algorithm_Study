{
 "cells": [
  {
   "cell_type": "markdown",
   "id": "24bd4269",
   "metadata": {},
   "source": [
    "# URL : https://school.programmers.co.kr/learn/courses/30/lessons/42583"
   ]
  },
  {
   "cell_type": "markdown",
   "id": "4752dbb8",
   "metadata": {},
   "source": [
    "## 다리를 지나는 트럭"
   ]
  },
  {
   "cell_type": "markdown",
   "id": "ada3451f",
   "metadata": {},
   "source": [
    "## 모범 답안"
   ]
  },
  {
   "cell_type": "code",
   "execution_count": 50,
   "id": "afe4abdd",
   "metadata": {},
   "outputs": [
    {
     "name": "stdout",
     "output_type": "stream",
     "text": [
      "8 8\n",
      "101 101\n",
      "110 110\n"
     ]
    }
   ],
   "source": [
    "import collections\n",
    "\n",
    "DUMMY_TRUCK = 0\n",
    "\n",
    "\n",
    "class Bridge(object):\n",
    "\n",
    "    def __init__(self, length, weight):\n",
    "        self._max_length = length\n",
    "        self._max_weight = weight\n",
    "        self._queue = collections.deque()\n",
    "        self._current_weight = 0\n",
    "\n",
    "    def push(self, truck):\n",
    "        next_weight = self._current_weight + truck\n",
    "        if next_weight <= self._max_weight and len(self._queue) < self._max_length:\n",
    "            self._queue.append(truck)\n",
    "            self._current_weight = next_weight\n",
    "            return True\n",
    "        else:\n",
    "            return False\n",
    "\n",
    "    def pop(self):\n",
    "        item = self._queue.popleft()\n",
    "        self._current_weight -= item\n",
    "        return item\n",
    "\n",
    "    def __len__(self):\n",
    "        return len(self._queue)\n",
    "\n",
    "    def __repr__(self):\n",
    "        return 'Bridge({}/{} : [{}])'.format(self._current_weight, self._max_weight, list(self._queue))\n",
    "\n",
    "\n",
    "def solution(bridge_length, weight, truck_weights):\n",
    "    bridge = Bridge(bridge_length, weight)\n",
    "    trucks = collections.deque(w for w in truck_weights)\n",
    "\n",
    "    for _ in range(bridge_length):\n",
    "        bridge.push(DUMMY_TRUCK)\n",
    "\n",
    "    count = 0\n",
    "    while trucks:\n",
    "        bridge.pop()\n",
    "\n",
    "        if bridge.push(trucks[0]):\n",
    "            trucks.popleft()\n",
    "        else:\n",
    "            bridge.push(DUMMY_TRUCK)\n",
    "\n",
    "        count += 1\n",
    "\n",
    "    while bridge:\n",
    "        bridge.pop()\n",
    "        count += 1\n",
    "\n",
    "    return count\n",
    "\n",
    "\n",
    "def main():\n",
    "    print(solution(2, 10, [7, 4, 5, 6]), 8)\n",
    "    print(solution(100, 100, [10]), 101)\n",
    "    print(solution(100, 100, [10, 10, 10, 10, 10, 10, 10, 10, 10, 10]), 110)\n",
    "\n",
    "\n",
    "if __name__ == '__main__':\n",
    "    main()"
   ]
  },
  {
   "cell_type": "markdown",
   "id": "486cc9c7",
   "metadata": {},
   "source": [
    "## 조성민"
   ]
  },
  {
   "attachments": {
    "image.png": {
     "image/png": "[encoded data removed]"
    }
   },
   "cell_type": "markdown",
   "id": "a5ee4586",
   "metadata": {},
   "source": [
    "![image.png](attachment:image.png)"
   ]
  },
  {
   "cell_type": "markdown",
   "id": "1362bc99",
   "metadata": {},
   "source": [
    "### 시간 초과가 난다...\n",
    "마음이 너무 아프다"
   ]
  },
  {
   "cell_type": "code",
   "execution_count": 44,
   "id": "480b2d96",
   "metadata": {},
   "outputs": [
    {
     "name": "stdout",
     "output_type": "stream",
     "text": [
      "8\n",
      "101\n",
      "110\n"
     ]
    }
   ],
   "source": [
    "def solution(bridge_length, weight, truck_weights):\n",
    "    bridge = [0] * bridge_length\n",
    "    count = 0\n",
    "    while bridge:\n",
    "        bridge.pop(0)\n",
    "        count += 1\n",
    "        \n",
    "        if truck_weights:\n",
    "            if sum(bridge) + truck_weights[0] <= weight:\n",
    "                truck = truck_weights.pop(0)\n",
    "                bridge.append(truck)\n",
    "                \n",
    "            else:\n",
    "                bridge.append(0)\n",
    "    \n",
    "    return count\n",
    "    \n",
    "    \n",
    "    \n",
    "print(solution(bridge_length=2, weight=10, truck_weights=[7,4,5,6]))\n",
    "print(solution(100, 100, [10]))\n",
    "print(solution(100, 100, [10,10,10,10,10,10,10,10,10,10]))"
   ]
  },
  {
   "cell_type": "markdown",
   "id": "e2418ae6",
   "metadata": {},
   "source": [
    "### 해결하기 위해서는 계산량을 줄여야 한다.\n",
    "\n",
    "\n",
    "리스트에 append, pop하는 과정에는 그리 큰 연산이 일어나지 않는다.\n",
    "stack, queue 를 사용해서 0을 pop하고 append하는 과정은 그리 문제가 되지 않는다.\n",
    "\n",
    "count 1씩 더하는건 당연히 아니다.\n",
    "\n",
    "도대체 그럼 뭘까?\n",
    "\n",
    "반복문의 문제일까? 하지만 딱히 문제될건 없다.\n",
    "\n",
    "sum함수의 문제일까? ㅁㅊ 진짜 된다\n",
    "\n",
    "아무래도 sum이 문제인 것 같다. 필요없는 0값도 계속 더해주는 것에서 연산량이 폭발한 듯 하다.\n",
    "\n",
    "이를 해결하기 위해 bridge_weight 변수를 사용하여 0을 더하는 필요없는 연산을 제거함"
   ]
  },
  {
   "cell_type": "code",
   "execution_count": 49,
   "id": "0be25f3f",
   "metadata": {},
   "outputs": [
    {
     "name": "stdout",
     "output_type": "stream",
     "text": [
      "8\n",
      "101\n",
      "110\n"
     ]
    }
   ],
   "source": [
    "def solution(bridge_length, weight, truck_weights):\n",
    "    bridge = [0] * bridge_length\n",
    "    count = 0\n",
    "    bridge_weight = 0\n",
    "    \n",
    "    while bridge:\n",
    "        if bridge[0] != 0:\n",
    "            bridge_weight -= bridge[0]\n",
    "        \n",
    "        bridge.pop(0)\n",
    "        count += 1\n",
    "        \n",
    "        if truck_weights:\n",
    "            if bridge_weight + truck_weights[0] <= weight:\n",
    "                truck = truck_weights.pop(0)\n",
    "                bridge.append(truck)\n",
    "                bridge_weight += truck\n",
    "                \n",
    "            else:\n",
    "                bridge.append(0)\n",
    "    \n",
    "    return count\n",
    "    \n",
    "    \n",
    "    \n",
    "print(solution(bridge_length=2, weight=10, truck_weights=[7,4,5,6]))\n",
    "print(solution(100, 100, [10]))\n",
    "print(solution(100, 100, [10,10,10,10,10,10,10,10,10,10]))"
   ]
  },
  {
   "cell_type": "markdown",
   "id": "b128f238",
   "metadata": {},
   "source": [
    "## 심경민"
   ]
  },
  {
   "cell_type": "code",
   "execution_count": null,
   "id": "0799d352",
   "metadata": {},
   "outputs": [],
   "source": [
    "from collections import deque # 블로그 참조해서 deque가 간편하다는 것을 알았습니다 ^^!\n",
    "def solution(bridge_length, weight, truck_weights):\n",
    "    time = 0\n",
    "    queue = deque([0]*bridge_length) # 다리만들기~\n",
    "    truck = deque(truck_weights)\n",
    "    \n",
    "    while queue:\n",
    "        time += 1  # 예시 보니까 다리 1칸에 1초 인듯 \n",
    "        queue.popleft() # 가장 앞에는 지나가세용~\n",
    "        if truck:\n",
    "            if sum(queue) + truck[0] <= weight:  # 이미 다리 위에 올라가있는 트럭 + 들어갈 트럭 <= 한계\n",
    "                queue.append(truck.popleft())  # 한계 미만이면 트럭 넣기\n",
    "            else:\n",
    "                queue.append(0)  # 아니면 그냥 0으로 넣고 지나가도록 \n",
    "                \n",
    "    return time\n",
    "\n",
    "# 내가 생각한 것\n",
    "# 일단 배경 (다리)가 존재 해야 하기 때문에 다리를 생성함\n",
    "# 이후에 트럭이 올라간 무게 즉 한계가 중요해서 if문 설정.\n",
    "# [0,0] > [0,7] > [7,0] > [0,4] > [4,5] 이런 식 \n",
    "# 이것을 구현하기 위해 for문을 사용하고자 햇으나 이중for문이 되고 너무 복잡해져서 생각을 정리하기가 힘듦\n",
    "# 코드 계속 수정하다가 점점 산으로 가서 다른 블로그 참조함. ^^; 그냥 이해만 하고 제가 다시 이해한 바탕으로 쓰긴했습니다.\n",
    "# 이중 for문 하다가 포기한건 이미지 첨부합니다"
   ]
  },
  {
   "cell_type": "markdown",
   "id": "44824ec8",
   "metadata": {},
   "source": [
    "## 이선우"
   ]
  },
  {
   "cell_type": "code",
   "execution_count": 7,
   "id": "61dba9b0",
   "metadata": {},
   "outputs": [],
   "source": [
    "def solution(bridge_length, weight, truck_weights):\n",
    "    answer = 0 #걸리는 시간\n",
    "    b=[0]*bridge_length #공간생성\n",
    "    \n",
    "    while b:\n",
    "        b.pop(0)\n",
    "        answer+=1 #트럭이 다리를 지날때 1초 소요\n",
    "        if truck_weights:\n",
    "            if truck_weights[0] + sum(b) <= weight: #1번으로 접근\n",
    "                b.append(truck_weights.pop(0))\n",
    "            else:\n",
    "                b.append(0) #무게땜에 들어가지 못한 트럭을 그냥 0으로 표현\n",
    "    return answer\n",
    "\n",
    "\n",
    "print(solution(bridge_length=2, weight=10, truck_weights=[7,4,5,6]))\n",
    "print(solution(100, 100, [10]))\n",
    "print(solution(100, 100, [10,10,10,10,10,10,10,10,10,10]))"
   ]
  },
  {
   "cell_type": "markdown",
   "id": "aaffcbcc",
   "metadata": {},
   "source": [
    "## 이민우"
   ]
  },
  {
   "cell_type": "code",
   "execution_count": 5,
   "id": "aca8d4d9",
   "metadata": {},
   "outputs": [],
   "source": [
    "def solution(bridge_length, weight, truck_weights):\n",
    "    q=[0]*bridge_length\n",
    "    sec=0\n",
    "    while q:\n",
    "        sec+=1\n",
    "        q.pop(0)\n",
    "        #뒤에 오는 대기트럭이 하중을 견디면 팝한 값을 q에 추가 하중을 견디지못하면 0을 추가하여 다리위에 트럭이 pop되어 하중을 견딜 수 있는 다리가 될때까지 카운트 상승 후 다시 다음트럭과 비교후 같은과정 반복\n",
    "        if truck_weights:\n",
    "            if sum(q)+truck_weights[0]<=weight:\n",
    "                q.append(truck_weights.pop(0))\n",
    "            else:\n",
    "                q.append(0)\n",
    "    return sec\n",
    "\n",
    "\n",
    "print(solution(bridge_length=2, weight=10, truck_weights=[7,4,5,6]))\n",
    "print(solution(100, 100, [10]))\n",
    "print(solution(100, 100, [10,10,10,10,10,10,10,10,10,10]))"
   ]
  },
  {
   "cell_type": "markdown",
   "id": "f7150113",
   "metadata": {},
   "source": [
    "## Test"
   ]
  },
  {
   "cell_type": "code",
   "execution_count": 51,
   "id": "cc3ff82e",
   "metadata": {
    "scrolled": false
   },
   "outputs": [
    {
     "name": "stdout",
     "output_type": "stream",
     "text": [
      "8\n",
      "101\n",
      "110\n"
     ]
    }
   ],
   "source": [
    "print(solution(bridge_length=2, weight=10, truck_weights=[7,4,5,6]))\n",
    "print(solution(100, 100, [10]))\n",
    "print(solution(100, 100, [10,10,10,10,10,10,10,10,10,10]))"
   ]
  },
  {
   "cell_type": "markdown",
   "id": "fb184e74",
   "metadata": {},
   "source": [
    "# URL : https://school.programmers.co.kr/learn/courses/30/lessons/42584?language=python3"
   ]
  },
  {
   "cell_type": "markdown",
   "id": "d7213e92",
   "metadata": {},
   "source": [
    "## 주식 가격"
   ]
  },
  {
   "cell_type": "markdown",
   "id": "a8afe31e",
   "metadata": {},
   "source": [
    "## 모범 답안"
   ]
  },
  {
   "cell_type": "code",
   "execution_count": null,
   "id": "a9f3831d",
   "metadata": {},
   "outputs": [],
   "source": [
    "def solution(prices):\n",
    "    answer = [0] * len(prices)\n",
    "    for i in range(len(prices)):\n",
    "        for j in range(i+1, len(prices)):\n",
    "            if prices[i] <= prices[j]:\n",
    "                answer[i] += 1\n",
    "            else:\n",
    "                answer[i] += 1\n",
    "                break\n",
    "    return answer"
   ]
  },
  {
   "cell_type": "markdown",
   "id": "91bc0806",
   "metadata": {},
   "source": [
    "## 조성민"
   ]
  },
  {
   "cell_type": "code",
   "execution_count": 3,
   "id": "e5a1cd56",
   "metadata": {},
   "outputs": [
    {
     "name": "stdout",
     "output_type": "stream",
     "text": [
      "[4, 3, 1, 1, 0]\n"
     ]
    }
   ],
   "source": [
    "from collections import deque\n",
    "\n",
    "def solution(prices):\n",
    "    answer = []\n",
    "    queue = deque(prices)\n",
    "    while queue:\n",
    "        num = queue.popleft()\n",
    "        count = 0\n",
    "        for target in queue:\n",
    "            if num <= target:\n",
    "                count += 1\n",
    "            else:\n",
    "                count += 1\n",
    "                break\n",
    "        answer.append(count)\n",
    "    return answer\n",
    "\n",
    "\n",
    "\n",
    "print(solution([1, 2, 3, 2, 3]))"
   ]
  },
  {
   "cell_type": "markdown",
   "id": "b657d3f8",
   "metadata": {},
   "source": [
    "## 심경민"
   ]
  },
  {
   "cell_type": "code",
   "execution_count": null,
   "id": "65e2cf9f",
   "metadata": {},
   "outputs": [],
   "source": [
    "def solution(prices):\n",
    "    answer = [0]*len(prices) # 트럭 처럼 ㅎㅎ 배경만들기 ^^v\n",
    "    \n",
    "    for i in range(len(prices)):  # 비교해야해서,,,일단 '이전'\n",
    "        for k in range(i+1, len(prices)):  # '현재'\n",
    "            if prices[i] <= prices[k]:  # 현재 주가가 더 높으면 상승, 혹은 같음 통과~\n",
    "                answer[i] += 1  #단순 추가\n",
    "            else:\n",
    "                answer[i] +=1  # 반대의 경우 추가한 뒤! break 이것떄문에 머리 꺠지는줄 ㅎㅎ;\n",
    "                break\n",
    "    return answer"
   ]
  },
  {
   "cell_type": "markdown",
   "id": "3b3e56af",
   "metadata": {},
   "source": [
    "## 이선우"
   ]
  },
  {
   "cell_type": "code",
   "execution_count": 1,
   "id": "af0decf5",
   "metadata": {},
   "outputs": [
    {
     "name": "stdout",
     "output_type": "stream",
     "text": [
      "[4, 3, 1, 1, 0]\n"
     ]
    }
   ],
   "source": [
    "from collections import deque \n",
    "\n",
    "def solution(prices):\n",
    "    answer = []\n",
    "    queue=deque(prices)\n",
    "    \n",
    "    while queue:\n",
    "        time=0\n",
    "        q=queue.popleft()\n",
    "        \n",
    "        for i in queue:\n",
    "            time+=1\n",
    "            if i < q:\n",
    "                break\n",
    "                \n",
    "        answer.append(time)\n",
    "    return answer\n",
    "\n",
    "\n",
    "\n",
    "print(solution([1, 2, 3, 2, 3]))"
   ]
  },
  {
   "cell_type": "markdown",
   "id": "641a593d",
   "metadata": {},
   "source": [
    "## 이민우"
   ]
  },
  {
   "cell_type": "code",
   "execution_count": 40,
   "id": "557463fd",
   "metadata": {},
   "outputs": [
    {
     "name": "stdout",
     "output_type": "stream",
     "text": [
      "True\n",
      "True\n",
      "False\n",
      "False\n",
      "False\n",
      "True\n"
     ]
    }
   ],
   "source": [
    "from collections import deque\n",
    "def solution(prices):\n",
    "    answer = []\n",
    "    que=deque(prices)  \n",
    "    while(que):\n",
    "        price=que.popleft() #q에서 pop한 값을 price로 지정\n",
    "        sec=0 # cnt 초기화\n",
    "        for com_price in que : \n",
    "            sec+=1  \n",
    "            if price > com_price : # 가격이 떨어질때까지 for문돌리다가 떨어지면 break\n",
    "                break\n",
    "        answer.append(sec) # 증가된거 list에 저장하고 다음 pop으로 이동\n",
    "\n",
    "    return answer"
   ]
  },
  {
   "cell_type": "markdown",
   "id": "36bf388b",
   "metadata": {},
   "source": [
    "## Test"
   ]
  },
  {
   "cell_type": "code",
   "execution_count": null,
   "id": "836ce16d",
   "metadata": {},
   "outputs": [],
   "source": [
    "print(solution([1, 2, 3, 2, 3]))"
   ]
  }
 ],
 "metadata": {
  "kernelspec": {
   "display_name": "Python 3 (ipykernel)",
   "language": "python",
   "name": "python3"
  },
  "language_info": {
   "codemirror_mode": {
    "name": "ipython",
    "version": 3
   },
   "file_extension": ".py",
   "mimetype": "text/x-python",
   "name": "python",
   "nbconvert_exporter": "python",
   "pygments_lexer": "ipython3",
   "version": "3.9.7"
  },
  "toc": {
   "base_numbering": 1,
   "nav_menu": {},
   "number_sections": true,
   "sideBar": true,
   "skip_h1_title": false,
   "title_cell": "Table of Contents",
   "title_sidebar": "Contents",
   "toc_cell": false,
   "toc_position": {},
   "toc_section_display": true,
   "toc_window_display": false
  }
 },
 "nbformat": 4,
 "nbformat_minor": 5
}
