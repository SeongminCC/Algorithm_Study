{
 "cells": [
  {
   "cell_type": "markdown",
   "id": "24bd4269",
   "metadata": {},
   "source": [
    "# URL : https://school.programmers.co.kr/learn/courses/30/lessons/86491"
   ]
  },
  {
   "cell_type": "markdown",
   "id": "4752dbb8",
   "metadata": {},
   "source": [
    "## 최소 직사각형"
   ]
  },
  {
   "cell_type": "markdown",
   "id": "ada3451f",
   "metadata": {},
   "source": [
    "## 모범 답안"
   ]
  },
  {
   "cell_type": "code",
   "execution_count": null,
   "id": "afe4abdd",
   "metadata": {},
   "outputs": [],
   "source": [
    "def solution(sizes):\n",
    "    return max(max(x) for x in sizes) * max(min(x) for x in sizes)"
   ]
  },
  {
   "cell_type": "markdown",
   "id": "486cc9c7",
   "metadata": {},
   "source": [
    "## 조성민"
   ]
  },
  {
   "cell_type": "code",
   "execution_count": 7,
   "id": "0be25f3f",
   "metadata": {},
   "outputs": [
    {
     "name": "stdout",
     "output_type": "stream",
     "text": [
      "4000\n",
      "120\n",
      "133\n"
     ]
    }
   ],
   "source": [
    "def solution(sizes):\n",
    "    width = []\n",
    "    height = []\n",
    "    \n",
    "    for i in sizes:\n",
    "        width.append(max(i))\n",
    "        height.append(min(i))\n",
    "        \n",
    "    return max(width) * max(height)\n",
    "        \n",
    "\n",
    "        \n",
    "print(solution([[60, 50], [30, 70], [60, 30], [80, 40]]))\n",
    "print(solution([[10, 7], [12, 3], [8, 15], [14, 7], [5, 15]]))\n",
    "print(solution([[14, 4], [19, 6], [6, 16], [18, 7], [7, 11]]))"
   ]
  },
  {
   "cell_type": "markdown",
   "id": "b128f238",
   "metadata": {},
   "source": [
    "## 심경민"
   ]
  },
  {
   "cell_type": "markdown",
   "id": "fecc10a6",
   "metadata": {},
   "source": [
    "def solution(sizes):\n",
    "    answer = 0\n",
    "    \n",
    "    for i in range(len(sizes)):\n",
    "        w_max = max(i[0])  # 가로 중 최대\n",
    "        n_max = max(i[1])  # 세로 중 최대 \n",
    "        if w_max >= n_max:  # 최대 구하기(최대는 무조건 답으로 고정)\n",
    "            w_max = s_max  # 최대\n",
    "            if n_max \n",
    "        else:\n",
    "            n_max = s_max\n",
    "            \n",
    "    return answer\n",
    "\n",
    "이렇게 했다가 최대 말고 최대랑 곱해야 하는 값 찾는 과정이 좀 에반거 같았음\n",
    "\n",
    "비교하고 , 비교하고, 어디서 어떤 조건으로 멈춰야하는데 내가 스스로 생각하기에도 조건이랄께 찾게 힘들었음\n",
    "그래서 질문하기 - 문제 이해 도와주는 걸 봤고 나처럼 일단 최대는 고정하고 그 다른 면이 어떻게 나와야 다 들어가냐 에서\n",
    "\n",
    "일단 최대는 무조건 맞고, 작은 수들 중에 최대를 구해야 될 것 같았음(일단 다 들어가야하니까)\n",
    "\n",
    "예시 1번 정렬하면 내부 정렬됨. \n",
    "\n",
    "[작은 수, 큰 수] 정렬됨 \n",
    "\n",
    "[[50, 60], [30, 70], [30, 60], [40, 80]]\n",
    "\n",
    "<최소 직사각형>\n",
    "def solution(sizes):\n",
    "    w = 0\n",
    "    h = 0\n",
    "\n",
    "    for i in range(len(sizes)):\n",
    "        sizes[i].sort()   # 정렬 다른 사람 코드 참고함. 왜냐면 그냥 sort해도 되는지 몰랏음 [[2,1][3,4]]면 [[1,2],[3,4]]로 될 줄 몰랐음 그래서 이건 참고했습니다... \n",
    "\n",
    "        if w < sizes[i][0]: \n",
    "            w = sizes[i][0]\n",
    "            \n",
    "        if h < sizes[i][1]:\n",
    "            h = sizes[i][1]\n",
    "\n",
    "    card = w * h\n",
    "    return card\n"
   ]
  },
  {
   "cell_type": "code",
   "execution_count": null,
   "id": "0799d352",
   "metadata": {},
   "outputs": [],
   "source": [
    "def solution(sizes):\n",
    "    w = 0\n",
    "    h = 0\n",
    "\n",
    "    for i in range(len(sizes)):\n",
    "        sizes[i].sort()   # 정렬 다른 사람 코드 참고함. 왜냐면 그냥 sort해도 되는지 몰랏음 [[2,1][3,4]]면 [[1,2],[3,4]]로 될 줄 몰랐음 그래서 이건 참고했습니다... \n",
    "\n",
    "        if w < sizes[i][0]: \n",
    "            w = sizes[i][0]\n",
    "            \n",
    "        if h < sizes[i][1]:\n",
    "            h = sizes[i][1]\n",
    "\n",
    "    card = w * h\n",
    "    return card"
   ]
  },
  {
   "cell_type": "markdown",
   "id": "02e4c442",
   "metadata": {},
   "source": [
    "## 이선우"
   ]
  },
  {
   "cell_type": "code",
   "execution_count": 12,
   "id": "076527af",
   "metadata": {},
   "outputs": [],
   "source": [
    "def solution(sizes):\n",
    "    w,h=[],[]\n",
    "    for i in range(len(sizes)):\n",
    "        size = sizes[i]\n",
    "        w.append(max(size))\n",
    "        h.append(min(size))\n",
    "    return max(w)*max(h)\n"
   ]
  },
  {
   "cell_type": "markdown",
   "id": "aaffcbcc",
   "metadata": {},
   "source": [
    "## 이민우"
   ]
  },
  {
   "cell_type": "code",
   "execution_count": 5,
   "id": "aca8d4d9",
   "metadata": {},
   "outputs": [],
   "source": [
    "def solution(sizes):\n",
    "    w = []\n",
    "    h = []\n",
    "    for i in range(len(sizes)):\n",
    "        if sizes[i][0] > sizes[i][1]:\n",
    "            w.append(sizes[i][1])\n",
    "            h.append(sizes[i][0])\n",
    "        else:\n",
    "            w.append(sizes[i][0])\n",
    "            h.append(sizes[i][1])\n",
    "\n",
    "\n",
    "    return max(w)*max(h)\n"
   ]
  },
  {
   "cell_type": "markdown",
   "id": "f7150113",
   "metadata": {},
   "source": [
    "## Test"
   ]
  },
  {
   "cell_type": "code",
   "execution_count": 51,
   "id": "cc3ff82e",
   "metadata": {
    "scrolled": false
   },
   "outputs": [
    {
     "name": "stdout",
     "output_type": "stream",
     "text": [
      "8\n",
      "101\n",
      "110\n"
     ]
    }
   ],
   "source": [
    "print(solution([[60, 50], [30, 70], [60, 30], [80, 40]]))\n",
    "print(solution([[10, 7], [12, 3], [8, 15], [14, 7], [5, 15]]))\n",
    "print(solution([[14, 4], [19, 6], [6, 16], [18, 7], [7, 11]]))"
   ]
  },
  {
   "cell_type": "markdown",
   "id": "fb184e74",
   "metadata": {},
   "source": [
    "# URL : https://school.programmers.co.kr/learn/courses/30/lessons/42840"
   ]
  },
  {
   "cell_type": "markdown",
   "id": "d7213e92",
   "metadata": {},
   "source": [
    "## 모의 고사"
   ]
  },
  {
   "cell_type": "markdown",
   "id": "a8afe31e",
   "metadata": {},
   "source": [
    "## 모범 답안"
   ]
  },
  {
   "cell_type": "code",
   "execution_count": null,
   "id": "a9f3831d",
   "metadata": {},
   "outputs": [],
   "source": [
    "def solution(answers):\n",
    "    pattern1 = [1,2,3,4,5]\n",
    "    pattern2 = [2,1,2,3,2,4,2,5]\n",
    "    pattern3 = [3,3,1,1,2,2,4,4,5,5]\n",
    "    score = [0, 0, 0]\n",
    "    result = []\n",
    "\n",
    "    for idx, answer in enumerate(answers):\n",
    "        if answer == pattern1[idx%len(pattern1)]:\n",
    "            score[0] += 1\n",
    "        if answer == pattern2[idx%len(pattern2)]:\n",
    "            score[1] += 1\n",
    "        if answer == pattern3[idx%len(pattern3)]:\n",
    "            score[2] += 1\n",
    "\n",
    "    for idx, s in enumerate(score):\n",
    "        if s == max(score):\n",
    "            result.append(idx+1)\n",
    "\n",
    "    return result\n"
   ]
  },
  {
   "cell_type": "markdown",
   "id": "91bc0806",
   "metadata": {},
   "source": [
    "## 조성민"
   ]
  },
  {
   "cell_type": "code",
   "execution_count": 11,
   "id": "e5a1cd56",
   "metadata": {},
   "outputs": [
    {
     "name": "stdout",
     "output_type": "stream",
     "text": [
      "[1]\n",
      "[1, 2, 3]\n"
     ]
    }
   ],
   "source": [
    "def solution(answers):\n",
    "    p1 = [1,2,3,4,5]\n",
    "    p2 = [2,1,2,3,2,4,2,5]\n",
    "    p3 = [3,3,1,1,2,2,4,4,5,5]\n",
    "    \n",
    "    score1, score2, score3 = 0, 0, 0\n",
    "    for i in range(len(answers)):\n",
    "        if answers[i] == p1[i%len(p1)]:\n",
    "            score1 += 1\n",
    "        if answers[i] == p2[i%len(p2)]:\n",
    "            score2 += 1\n",
    "        if answers[i] == p3[i%len(p3)]:\n",
    "            score3 += 1\n",
    "            \n",
    "    max_score = max(score1, score2, score3)\n",
    "    answer = []\n",
    "    if max_score == score1:\n",
    "        answer.append(1)\n",
    "    if max_score == score2:\n",
    "        answer.append(2)\n",
    "    if max_score == score3:\n",
    "        answer.append(3)\n",
    "        \n",
    "    return answer\n",
    "    \n",
    "    \n",
    "    \n",
    "    \n",
    "    \n",
    "    \n",
    "    \n",
    "print(solution([1,2,3,4,5]))\n",
    "print(solution([1,3,2,4,2]))"
   ]
  },
  {
   "cell_type": "markdown",
   "id": "b657d3f8",
   "metadata": {},
   "source": [
    "## 심경민"
   ]
  },
  {
   "cell_type": "code",
   "execution_count": null,
   "id": "65e2cf9f",
   "metadata": {},
   "outputs": [],
   "source": [
    "def solution(answers):\n",
    "    answer = []\n",
    "    o1,o2,o3 = 0, 0, 0\n",
    "    \n",
    "    po1 = [1, 2, 3, 4, 5] #반복되는 부분들\n",
    "    po2 = [2, 1, 2, 3, 2, 4, 2, 5]\n",
    "    po3 = [3, 3, 1, 1, 2, 2, 4, 4, 5, 5]\n",
    "    \n",
    "    for i in range(len(answers)):\n",
    "        i1 = i % 5\n",
    "        i2 = i % 8\n",
    "        i3 = i % 10\n",
    "        \n",
    "        if po1[i1] == answers[i]:\n",
    "            o1 += 1\n",
    "        if po2[i2] == answers[i]:\n",
    "            o2 += 1\n",
    "        if po3[i3] == answers[i]:\n",
    "            o3 += 1\n",
    "            \n",
    "    k = max(o1,o2,o3)\n",
    "    \n",
    "    if k == o1:\n",
    "        answer.append(1)\n",
    "    if k == o2:\n",
    "        answer.append(2)\n",
    "    if k == o3:\n",
    "        answer.append(3)\n",
    "         \n",
    "            \n",
    "    return answer"
   ]
  },
  {
   "cell_type": "markdown",
   "id": "3b3e56af",
   "metadata": {},
   "source": [
    "## 이선우"
   ]
  },
  {
   "cell_type": "code",
   "execution_count": 1,
   "id": "af0decf5",
   "metadata": {},
   "outputs": [
    {
     "name": "stdout",
     "output_type": "stream",
     "text": [
      "[4, 3, 1, 1, 0]\n"
     ]
    }
   ],
   "source": [
    "def solution(answers):\n",
    "    answer = []\n",
    "    s1=[1,2,3,4,5]\n",
    "    s2=[2, 1, 2, 3, 2, 4, 2, 5]\n",
    "    s3=[3, 3, 1, 1, 2, 2, 4, 4, 5, 5]\n",
    "    \n",
    "    count=[0,0,0]\n",
    "    for i,j in enumerate(answers):\n",
    "        if j == s1[i%len(s1)]:\n",
    "            count[0]+=1\n",
    "        if j == s2[i%len(s2)]:\n",
    "            count[1]+=1\n",
    "        if j == s3[i%len(s3)]:\n",
    "            count[2]+=1\n",
    "\n",
    "    for i,m in enumerate(count): # 최고득점자 찾기\n",
    "        if m==max(count):\n",
    "            answer.append(i+1)\n",
    "    return answer"
   ]
  },
  {
   "cell_type": "markdown",
   "id": "641a593d",
   "metadata": {},
   "source": [
    "## 이민우"
   ]
  },
  {
   "cell_type": "code",
   "execution_count": 40,
   "id": "557463fd",
   "metadata": {},
   "outputs": [
    {
     "name": "stdout",
     "output_type": "stream",
     "text": [
      "True\n",
      "True\n",
      "False\n",
      "False\n",
      "False\n",
      "True\n"
     ]
    }
   ],
   "source": [
    "from itertools import cycle\n",
    "\n",
    "def solution(answers):\n",
    "    supoja = [\n",
    "        cycle([1,2,3,4,5]),#0\n",
    "        cycle([2,1,2,3,2,4,2,5]),#1\n",
    "        cycle([3,3,1,1,2,2,4,4,5,5]),#2 #cycle('ABCD') --> A B C D A B C D A B C D ...\n",
    "    ]\n",
    "    scores = [0, 0, 0]\n",
    "    for num in answers:\n",
    "        for i in range(3):#0,1,2\n",
    "            if next(supoja[i]) == num:#행을 넘겨서 supoja의 인덱스 0일때 리스트 1,2,3,4,5호출\n",
    "                scores[i] += 1\n",
    "\n",
    "    return [i + 1 for i, v in enumerate(scores) if v == max(scores)] #score를 enumerat해서 가장 큰 v의 i를 +1 해서 리턴\n"
   ]
  },
  {
   "cell_type": "markdown",
   "id": "36bf388b",
   "metadata": {},
   "source": [
    "## Test"
   ]
  },
  {
   "cell_type": "code",
   "execution_count": null,
   "id": "836ce16d",
   "metadata": {},
   "outputs": [],
   "source": [
    "print(solution([1,2,3,4,5]))\n",
    "print(solution([1,3,2,4,2]))"
   ]
  }
 ],
 "metadata": {
  "kernelspec": {
   "display_name": "Python 3 (ipykernel)",
   "language": "python",
   "name": "python3"
  },
  "language_info": {
   "codemirror_mode": {
    "name": "ipython",
    "version": 3
   },
   "file_extension": ".py",
   "mimetype": "text/x-python",
   "name": "python",
   "nbconvert_exporter": "python",
   "pygments_lexer": "ipython3",
   "version": "3.9.7"
  },
  "toc": {
   "base_numbering": 1,
   "nav_menu": {},
   "number_sections": true,
   "sideBar": true,
   "skip_h1_title": false,
   "title_cell": "Table of Contents",
   "title_sidebar": "Contents",
   "toc_cell": false,
   "toc_position": {},
   "toc_section_display": true,
   "toc_window_display": false
  }
 },
 "nbformat": 4,
 "nbformat_minor": 5
}
