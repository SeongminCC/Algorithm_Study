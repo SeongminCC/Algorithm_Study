{
 "cells": [
  {
   "cell_type": "markdown",
   "id": "24bd4269",
   "metadata": {},
   "source": [
    "# URL : https://school.programmers.co.kr/learn/courses/30/lessons/42576"
   ]
  },
  {
   "cell_type": "markdown",
   "id": "eddbbb8b",
   "metadata": {},
   "source": [
    "## 마라톤"
   ]
  },
  {
   "cell_type": "markdown",
   "id": "486cc9c7",
   "metadata": {},
   "source": [
    "## 조성민"
   ]
  },
  {
   "cell_type": "markdown",
   "id": "a99882a6",
   "metadata": {},
   "source": [
    "### hash 사용 - O(1)"
   ]
  },
  {
   "cell_type": "code",
   "execution_count": 1,
   "id": "7e7b6a03",
   "metadata": {},
   "outputs": [],
   "source": [
    "def solution(participant, completion):\n",
    "    dict = {}\n",
    "    sum = 0\n",
    "    \n",
    "    for i in participant:\n",
    "        key = hash(i)\n",
    "        dict[key] = i\n",
    "        sum += key\n",
    "\n",
    "    for i in completion:\n",
    "        sum -= hash(i)\n",
    "        \n",
    "    return dict[sum]"
   ]
  },
  {
   "cell_type": "markdown",
   "id": "e7256401",
   "metadata": {},
   "source": [
    "### collections 사용"
   ]
  },
  {
   "cell_type": "code",
   "execution_count": 8,
   "id": "9bf117b5",
   "metadata": {},
   "outputs": [],
   "source": [
    "import collections\n",
    "\n",
    "def solution(participant, completion):\n",
    "    a = collections.Counter(participant)\n",
    "    b = collections.Counter(completion)\n",
    "    return list((a-b).keys())[0]"
   ]
  },
  {
   "cell_type": "markdown",
   "id": "b128f238",
   "metadata": {},
   "source": [
    "## 심경민"
   ]
  },
  {
   "cell_type": "code",
   "execution_count": null,
   "id": "ea37493e",
   "metadata": {},
   "outputs": [],
   "source": [
    "def solution(participant, completion):\n",
    "    answer = ''\n",
    "    \n",
    "    participant.sort()\n",
    "    completion.sort()\n",
    "    for ii in range(len(completion)):          \n",
    "\n",
    "        if participant[ii] != completion[ii]:  \n",
    "            return participant[ii] \n",
    "    return participant[-1] "
   ]
  },
  {
   "cell_type": "markdown",
   "id": "44824ec8",
   "metadata": {},
   "source": [
    "## 이선우"
   ]
  },
  {
   "cell_type": "code",
   "execution_count": null,
   "id": "61dba9b0",
   "metadata": {},
   "outputs": [],
   "source": [
    "def solution(participant, completion):\n",
    "    participant.sort()\n",
    "    completion.sort()\n",
    "    \n",
    "    for i in range(len(completion)):\n",
    "        if participant[i]!=completion[i]:\n",
    "        return participant[i]\n",
    "        \n",
    "    return participant[-1]"
   ]
  },
  {
   "cell_type": "markdown",
   "id": "aaffcbcc",
   "metadata": {},
   "source": [
    "## 이민우"
   ]
  },
  {
   "cell_type": "code",
   "execution_count": null,
   "id": "aca8d4d9",
   "metadata": {},
   "outputs": [],
   "source": [
    "def solution(participant, completion):\n",
    "    answer = ''\n",
    "    temp = 0\n",
    "    dic = {}\n",
    "    for part in participant:\n",
    "        dic[hash(part)] = part\n",
    "        temp += hash(part)\n",
    "    for com in completion:\n",
    "        temp -= hash(com)\n",
    "    answer = dic[temp]\n",
    "\n",
    "    return answer"
   ]
  },
  {
   "cell_type": "markdown",
   "id": "c45fec26",
   "metadata": {},
   "source": [
    "## test"
   ]
  },
  {
   "cell_type": "code",
   "execution_count": 9,
   "id": "eea66c49",
   "metadata": {},
   "outputs": [
    {
     "name": "stdout",
     "output_type": "stream",
     "text": [
      "leo\n",
      "vinko\n",
      "mislav\n"
     ]
    }
   ],
   "source": [
    "print(solution([\"leo\", \"kiki\", \"eden\"], [\"eden\", \"kiki\"]))\n",
    "print(solution([\"marina\", \"josipa\", \"nikola\", \"vinko\", \"filipa\"], [\"josipa\", \"filipa\", \"marina\", \"nikola\"]))\n",
    "print(solution([\"mislav\", \"stanko\", \"mislav\", \"ana\"], [\"stanko\", \"ana\", \"mislav\"]))"
   ]
  },
  {
   "cell_type": "markdown",
   "id": "6d6ebd38",
   "metadata": {},
   "source": [
    "# URL : https://school.programmers.co.kr/learn/courses/30/lessons/1845"
   ]
  },
  {
   "cell_type": "markdown",
   "id": "cdd68e7b",
   "metadata": {},
   "source": [
    "## 포켓몬"
   ]
  },
  {
   "cell_type": "markdown",
   "id": "ed10cbc3",
   "metadata": {},
   "source": [
    "## 조성민"
   ]
  },
  {
   "cell_type": "code",
   "execution_count": 30,
   "id": "05fc5176",
   "metadata": {},
   "outputs": [],
   "source": [
    "def solution(nums):\n",
    "    # 데려갈 포켓몬 수\n",
    "    get = int(len(nums)/2)\n",
    "    \n",
    "    # 리스트 초기화 -> 중복되는 포켓몬 제거\n",
    "    li = []\n",
    "    for i in nums:\n",
    "        if not i in li:\n",
    "            li.append(i)\n",
    "    \n",
    "    if get > len(li):\n",
    "        return len(li)\n",
    "    else:\n",
    "        return get\n",
    "        \n",
    "    "
   ]
  },
  {
   "cell_type": "markdown",
   "id": "b1cac23e",
   "metadata": {},
   "source": [
    "## 심경민"
   ]
  },
  {
   "cell_type": "code",
   "execution_count": null,
   "id": "4983f2c8",
   "metadata": {},
   "outputs": [],
   "source": [
    "def solution(nums):  \n",
    "    pok = len(set(nums))  \n",
    "    if len(nums) / 2 > pok:  \n",
    "        return pok\n",
    "    else:\n",
    "        return len(nums) / 2  "
   ]
  },
  {
   "cell_type": "markdown",
   "id": "777418e5",
   "metadata": {},
   "source": [
    "## 이선우"
   ]
  },
  {
   "cell_type": "code",
   "execution_count": null,
   "id": "7497d663",
   "metadata": {},
   "outputs": [],
   "source": [
    "def solution(nums):\n",
    "    pick = len(nums)/2\n",
    "    n1 = set(nums) \n",
    "    if pick > len(n1):\n",
    "        return len(n1)\n",
    "    else:\n",
    "        return pick"
   ]
  },
  {
   "cell_type": "markdown",
   "id": "38e6715d",
   "metadata": {},
   "source": [
    "## 이민우"
   ]
  },
  {
   "cell_type": "code",
   "execution_count": null,
   "id": "53b5e3ed",
   "metadata": {},
   "outputs": [],
   "source": [
    "def solution(nums):\n",
    "    answer = len(nums)//2\n",
    "    my_set = set(nums)\n",
    "    my_list = list(my_set)\n",
    "    if answer < len(my_list):\n",
    "        return answer\n",
    "    return len(my_list)"
   ]
  },
  {
   "cell_type": "markdown",
   "id": "9e95d488",
   "metadata": {},
   "source": [
    "## 우수답안"
   ]
  },
  {
   "cell_type": "code",
   "execution_count": 33,
   "id": "c0a50a30",
   "metadata": {},
   "outputs": [],
   "source": [
    "def solution(ls):\n",
    "    return int(min(len(ls)/2, len(set(ls))))"
   ]
  },
  {
   "cell_type": "markdown",
   "id": "1cb3ba7b",
   "metadata": {},
   "source": [
    "## test"
   ]
  },
  {
   "cell_type": "code",
   "execution_count": 34,
   "id": "cc3ff82e",
   "metadata": {},
   "outputs": [
    {
     "name": "stdout",
     "output_type": "stream",
     "text": [
      "2\n",
      "3\n",
      "2\n"
     ]
    }
   ],
   "source": [
    "print(solution([3,1,2,3]))\n",
    "print(solution([3,3,3,2,2,4]))\n",
    "print(solution([3,3,3,2,2,2]))\n"
   ]
  },
  {
   "cell_type": "code",
   "execution_count": null,
   "id": "92112d03",
   "metadata": {},
   "outputs": [],
   "source": []
  }
 ],
 "metadata": {
  "kernelspec": {
   "display_name": "Python 3 (ipykernel)",
   "language": "python",
   "name": "python3"
  },
  "language_info": {
   "codemirror_mode": {
    "name": "ipython",
    "version": 3
   },
   "file_extension": ".py",
   "mimetype": "text/x-python",
   "name": "python",
   "nbconvert_exporter": "python",
   "pygments_lexer": "ipython3",
   "version": "3.7.3"
  },
  "toc": {
   "base_numbering": 1,
   "nav_menu": {},
   "number_sections": true,
   "sideBar": true,
   "skip_h1_title": false,
   "title_cell": "Table of Contents",
   "title_sidebar": "Contents",
   "toc_cell": false,
   "toc_position": {},
   "toc_section_display": true,
   "toc_window_display": false
  }
 },
 "nbformat": 4,
 "nbformat_minor": 5
}
