{
 "cells": [
  {
   "cell_type": "markdown",
   "id": "24bd4269",
   "metadata": {},
   "source": [
    "# URL : https://school.programmers.co.kr/learn/courses/30/lessons/42586"
   ]
  },
  {
   "cell_type": "markdown",
   "id": "4752dbb8",
   "metadata": {},
   "source": [
    "## 기능 개발"
   ]
  },
  {
   "cell_type": "markdown",
   "id": "ada3451f",
   "metadata": {},
   "source": [
    "## 모범 답안"
   ]
  },
  {
   "cell_type": "code",
   "execution_count": 2,
   "id": "afe4abdd",
   "metadata": {},
   "outputs": [
    {
     "name": "stdout",
     "output_type": "stream",
     "text": [
      "[[7, 2], [9, 1]]\n",
      "[[5, 1], [10, 3], [20, 2]]\n"
     ]
    }
   ],
   "source": [
    "def solution(progresses, speeds):\n",
    "    Q=[]\n",
    "    for p, s in zip(progresses, speeds):\n",
    "        if len(Q)==0 or Q[-1][0]<-((p-100)//s):\n",
    "            Q.append([-((p-100)//s),1])\n",
    "        else:\n",
    "            Q[-1][1]+=1\n",
    "    return Q\n",
    "    return [q[1] for q in Q]\n",
    "\n",
    "print(solution([93, 30, 55], [1, 30, 5]))\n",
    "print(solution([95, 90, 99, 99, 80, 99], [1, 1, 1, 1, 1, 1]))"
   ]
  },
  {
   "cell_type": "markdown",
   "id": "486cc9c7",
   "metadata": {},
   "source": [
    "## 조성민"
   ]
  },
  {
   "cell_type": "code",
   "execution_count": 24,
   "id": "0be25f3f",
   "metadata": {},
   "outputs": [
    {
     "name": "stdout",
     "output_type": "stream",
     "text": [
      "[2, 1]\n",
      "[1, 3, 2]\n"
     ]
    }
   ],
   "source": [
    "import math\n",
    "def solution(progresses, speeds):\n",
    "    # 각 작업이 완료되기 위한 일수\n",
    "    stack = []\n",
    "    for prog, spe in zip(progresses, speeds):\n",
    "        day = (100 - prog)/spe\n",
    "        stack.append(math.ceil(day))\n",
    "    \n",
    "    \n",
    "    # stack ==> ##############\n",
    "    # [7, 3, 9]\n",
    "    # [5, 10, 1, 1, 20, 1]\n",
    "    ##########################\n",
    "    \n",
    "\n",
    "    answer = []\n",
    "    while stack:\n",
    "        pre_day = stack[0]\n",
    "        cnt = 0\n",
    "        while stack:\n",
    "            if pre_day >= stack[0]:\n",
    "                cnt += 1\n",
    "                stack.pop(0)\n",
    "            else:\n",
    "                break\n",
    "                \n",
    "        answer.append(cnt)\n",
    "            \n",
    "    return answer\n",
    "    \n",
    "    \n",
    "print(solution([93, 30, 55], [1, 30, 5]))\n",
    "print(solution([95, 90, 99, 99, 80, 99], [1, 1, 1, 1, 1, 1]))"
   ]
  },
  {
   "cell_type": "markdown",
   "id": "b128f238",
   "metadata": {},
   "source": [
    "## 심경민"
   ]
  },
  {
   "cell_type": "code",
   "execution_count": null,
   "id": "e5e81a41",
   "metadata": {},
   "outputs": [],
   "source": [
    "def solution(progresses, speeds):\n",
    "    answer=[]\n",
    "    ans = 0\n",
    "    \n",
    "    while progresses: \n",
    "        for i in range(len(progresses)): # 0 ~ 2 \n",
    "            progresses[i] += speeds[i]   # 진행하기\n",
    "    \n",
    "            if progresses[i] >= 100:  # 완성 되면\n",
    "                progresses[i].pop(0)  # 나가라\n",
    "                speeds[i].pop(0)\n",
    "    \n",
    "    \n",
    "    return answer\n",
    "\n",
    "print(solution([93, 30, 55], [1, 30, 5]))\n",
    "print(solution([95, 90, 99, 99, 80, 99], [1, 1, 1, 1, 1, 1]))"
   ]
  },
  {
   "cell_type": "markdown",
   "id": "44824ec8",
   "metadata": {},
   "source": [
    "## 이선우"
   ]
  },
  {
   "cell_type": "code",
   "execution_count": 1,
   "id": "61dba9b0",
   "metadata": {},
   "outputs": [],
   "source": [
    "def solution(progresses, speeds):\n",
    "    answer = []\n",
    "    \n",
    "    round = []\n",
    "    import math\n",
    "    for i in range(len(progresses)):\n",
    "        complete_day=(100-progresses[i])/speeds[i]\n",
    "        roundup=math.ceil(complete_day)\n",
    "        round.append(roundup)\n",
    "    \n",
    "    #front에 가장 오래걸린 배표시간 저장\n",
    "    front=0\n",
    "    for j in range(len(round)):\n",
    "        if round[j]>round[front]:\n",
    "            answer.append(j-front)\n",
    "            front=j\n",
    "    answer.append(len(round)-front)\n",
    "            \n",
    "    return answer\n"
   ]
  },
  {
   "cell_type": "markdown",
   "id": "aaffcbcc",
   "metadata": {},
   "source": [
    "## 이민우"
   ]
  },
  {
   "cell_type": "code",
   "execution_count": 5,
   "id": "aca8d4d9",
   "metadata": {},
   "outputs": [],
   "source": [
    "import math;\n",
    "\n",
    "def solution(progresses, speeds):\n",
    "    answer = []\n",
    "    days = []\n",
    "    for i in range(len(progresses)):\n",
    "        days.append(math.ceil((100-progresses[i])/speeds[i]))\n",
    "\n",
    "    temp = days[0];\n",
    "    cnt = 0;\n",
    "    for day in days:\n",
    "        if day <= temp:\n",
    "            cnt+=1\n",
    "        else:\n",
    "            answer.append(cnt)\n",
    "            cnt = 1\n",
    "            temp = day\n",
    "        #print(day,cnt)\n",
    "    answer.append(cnt)\n",
    "    return answer\n"
   ]
  },
  {
   "cell_type": "markdown",
   "id": "f7150113",
   "metadata": {},
   "source": [
    "## Test"
   ]
  },
  {
   "cell_type": "code",
   "execution_count": 2,
   "id": "cc3ff82e",
   "metadata": {
    "scrolled": false
   },
   "outputs": [
    {
     "name": "stdout",
     "output_type": "stream",
     "text": [
      "[2, 1]\n",
      "[1, 3, 2]\n"
     ]
    }
   ],
   "source": [
    "print(solution([93, 30, 55], [1, 30, 5]))\n",
    "print(solution([95, 90, 99, 99, 80, 99], [1, 1, 1, 1, 1, 1]))"
   ]
  },
  {
   "cell_type": "markdown",
   "id": "fb184e74",
   "metadata": {},
   "source": [
    "# URL : https://school.programmers.co.kr/learn/courses/30/lessons/12909"
   ]
  },
  {
   "cell_type": "markdown",
   "id": "d7213e92",
   "metadata": {},
   "source": [
    "## 올바른 괄호"
   ]
  },
  {
   "cell_type": "markdown",
   "id": "a8afe31e",
   "metadata": {},
   "source": [
    "## 모범 답안"
   ]
  },
  {
   "cell_type": "code",
   "execution_count": null,
   "id": "a9f3831d",
   "metadata": {},
   "outputs": [],
   "source": [
    "def is_pair(s):\n",
    "    # 함수를 완성하세요\n",
    "    x = 0\n",
    "    for w in s:\n",
    "        if x < 0:\n",
    "            break\n",
    "        x = x+1 if w==\"(\" else x-1 if w==\")\" else x\n",
    "    return x==0"
   ]
  },
  {
   "cell_type": "markdown",
   "id": "91bc0806",
   "metadata": {},
   "source": [
    "## 조성민"
   ]
  },
  {
   "cell_type": "markdown",
   "id": "1bcdc46e",
   "metadata": {},
   "source": [
    "### 효율성 오류 발생"
   ]
  },
  {
   "cell_type": "code",
   "execution_count": 28,
   "id": "e5a1cd56",
   "metadata": {},
   "outputs": [
    {
     "name": "stdout",
     "output_type": "stream",
     "text": [
      "True\n",
      "True\n",
      "False\n",
      "False\n"
     ]
    }
   ],
   "source": [
    "from collections import deque\n",
    "\n",
    "def solution(s):\n",
    "    queue = deque()\n",
    "    \n",
    "    # )으로 시작하는 문제는 False\n",
    "    if s[0] == ')':\n",
    "        return False\n",
    "    \n",
    "    for ss in s:\n",
    "        if ss == '(':\n",
    "            queue.append(ss)\n",
    "            \n",
    "        else:\n",
    "            queue.popleft()\n",
    "            \n",
    "    if queue:\n",
    "        return False\n",
    "    else:\n",
    "        return True\n",
    "        \n",
    "        \n",
    "\n",
    "\n",
    "print(solution(\"()()\"))\n",
    "print(solution(\"(())()\"))\n",
    "print(solution(\")()(\"))\n",
    "print(solution(\"(()(\"))"
   ]
  },
  {
   "cell_type": "markdown",
   "id": "b657d3f8",
   "metadata": {},
   "source": [
    "## 심경민"
   ]
  },
  {
   "cell_type": "code",
   "execution_count": null,
   "id": "65e2cf9f",
   "metadata": {},
   "outputs": [],
   "source": [
    "def solution(s):\n",
    "    if s[0] == ')':  # 이건,, 3번째 결과 노리고 한 거긴 해요,,,\n",
    "        return False\n",
    "    \n",
    "    if s[0] == '(' and  s[-1] == ')':  # 가장 겉 괄호들이 잘 맞으면\n",
    "        for i in s:\n",
    "            if s.count('(') == s.count(')'):  # 개수를 세고, 그 개수가 같으면\n",
    "                return True\n",
    "            else:\n",
    "                return False\n",
    "    else:\n",
    "        return False  # 시작부터 닫는 결과 쳐내기 \n"
   ]
  },
  {
   "cell_type": "markdown",
   "id": "3b3e56af",
   "metadata": {},
   "source": [
    "## 이선우"
   ]
  },
  {
   "cell_type": "code",
   "execution_count": null,
   "id": "af0decf5",
   "metadata": {},
   "outputs": [],
   "source": [
    "def solution(s):\n",
    "    stack =[]\n",
    "    open = ['(']\n",
    "    close = [')']\n",
    "    \n",
    "    for c in s:\n",
    "        if c in open:\n",
    "            stack.append(c)\n",
    "        elif c in close:\n",
    "            if len(stack)==0:\n",
    "                return False\n",
    "            open = stack.pop()\n",
    "\n",
    "    return len(stack)==0\n"
   ]
  },
  {
   "cell_type": "markdown",
   "id": "641a593d",
   "metadata": {},
   "source": [
    "## 이민우"
   ]
  },
  {
   "cell_type": "code",
   "execution_count": 40,
   "id": "557463fd",
   "metadata": {},
   "outputs": [
    {
     "name": "stdout",
     "output_type": "stream",
     "text": [
      "True\n",
      "True\n",
      "False\n",
      "False\n",
      "False\n",
      "True\n"
     ]
    }
   ],
   "source": [
    "def solution(s):\n",
    "    stack = []\n",
    "    for c in s:\n",
    "        if c=='(':\n",
    "            stack.append(c)\n",
    "            #스택에 (가 더이상 없거나 스택에서 pop을 할때 팝연산을 하고나서 \"(\"가 있을 때\n",
    "        elif not stack or stack.pop() != '(':  # == ')'\n",
    "            return False \n",
    "            #stack이 있으면 false를 리턴하고 없으면 True를 리턴\n",
    "            \n",
    "    return False if stack else True\n",
    "\n",
    "print(solution(\"()()\"))\n",
    "print(solution(\"(())()\"))\n",
    "print(solution(\")()(\"))\n",
    "print(solution(\"(()(\"))\n",
    "print(solution(\"(((((((((()))(\"))\n",
    "print(solution(\"(((((((((())))))))))\"))\n"
   ]
  },
  {
   "cell_type": "markdown",
   "id": "36bf388b",
   "metadata": {},
   "source": [
    "## Test"
   ]
  },
  {
   "cell_type": "code",
   "execution_count": null,
   "id": "836ce16d",
   "metadata": {},
   "outputs": [],
   "source": [
    "print(solution(\"()()\"))\n",
    "print(solution(\"(())()\"))\n",
    "print(solution(\")()(\"))\n",
    "print(solution(\"(()(\"))"
   ]
  },
  {
   "cell_type": "markdown",
   "id": "6ed7ba80",
   "metadata": {},
   "source": [
    "# URL : https://school.programmers.co.kr/learn/courses/30/lessons/42587"
   ]
  },
  {
   "cell_type": "markdown",
   "id": "d0ae81af",
   "metadata": {},
   "source": [
    "## 프린터"
   ]
  },
  {
   "cell_type": "markdown",
   "id": "34aa3784",
   "metadata": {},
   "source": [
    "## 모범 답안"
   ]
  },
  {
   "cell_type": "code",
   "execution_count": 48,
   "id": "9f194d81",
   "metadata": {},
   "outputs": [
    {
     "name": "stdout",
     "output_type": "stream",
     "text": [
      "1\n",
      "5\n"
     ]
    }
   ],
   "source": [
    "def solution(priorities, location):\n",
    "    queue =  [(i,p) for i,p in enumerate(priorities)]\n",
    "    \n",
    "    # =============================================== #\n",
    "    [(0, 2), (1, 1), (2, 3), (3, 2)]\n",
    "    [(0, 1), (1, 1), (2, 9), (3, 1), (4, 1), (5, 1)]\n",
    "    # =============================================== #\n",
    "    \n",
    "    answer = 0\n",
    "    while True:\n",
    "        cur = queue.pop(0)\n",
    "        if any(cur[1] < q[1] for q in queue):\n",
    "            queue.append(cur)\n",
    "        else:\n",
    "            answer += 1\n",
    "            if cur[0] == location:\n",
    "                return answer\n",
    "            \n",
    "            \n",
    "            \n",
    "print(solution([2, 1, 3, 2], 2))\n",
    "print(solution([1, 1, 9, 1, 1, 1], 0))            "
   ]
  },
  {
   "cell_type": "markdown",
   "id": "022d8bff",
   "metadata": {},
   "source": [
    "## 조성민"
   ]
  },
  {
   "attachments": {
    "image.png": {
     "image/png": "[encoded data removed]"
    }
   },
   "cell_type": "markdown",
   "id": "d483b39e",
   "metadata": {},
   "source": [
    "![image.png](attachment:image.png)"
   ]
  },
  {
   "cell_type": "code",
   "execution_count": 46,
   "id": "ba465238",
   "metadata": {},
   "outputs": [
    {
     "name": "stdout",
     "output_type": "stream",
     "text": [
      "1\n",
      "5\n"
     ]
    }
   ],
   "source": [
    "from collections import deque\n",
    "def solution(priorities, location):\n",
    "    queue = deque(priorities)\n",
    "    answer = 0\n",
    "    while queue:\n",
    "        if location == 0:\n",
    "            if queue[0] < max(queue):\n",
    "                pres = queue.popleft()\n",
    "                queue.append(pres)\n",
    "                location = len(queue) - 1\n",
    "            \n",
    "            else:\n",
    "                # location = 0 and 출력\n",
    "                return answer + 1\n",
    "            \n",
    "        else:\n",
    "            if queue[0] < max(queue):\n",
    "                pres = queue.popleft()\n",
    "                queue.append(pres)\n",
    "                location -= 1\n",
    "            \n",
    "            else:\n",
    "                # 출력\n",
    "                queue.popleft()\n",
    "                answer += 1\n",
    "                location -= 1\n",
    "                \n",
    "\n",
    "\n",
    "\n",
    "\n",
    "print(solution([2, 1, 3, 2], 2))\n",
    "print(solution([1, 1, 9, 1, 1, 1], 0))"
   ]
  },
  {
   "cell_type": "markdown",
   "id": "0c83a056",
   "metadata": {},
   "source": [
    "## 심경민"
   ]
  },
  {
   "cell_type": "code",
   "execution_count": null,
   "id": "4124af94",
   "metadata": {},
   "outputs": [],
   "source": [
    "def solution(priorities, location):\n",
    "    answer = 0\n",
    "    M = max(priorities)\n",
    "    while True:\n",
    "        for i in range(len(priorities)):\n",
    "            if M == priorities[i]:\n",
    "                answer += 1\n",
    "                priorities[i] = 0  # 다음 최대 값 구해야함\n",
    "                M = max(priorities) # 구하기 \n",
    "                \n",
    "                if i == location:\n",
    "                    return answer"
   ]
  },
  {
   "cell_type": "markdown",
   "id": "d55125f8",
   "metadata": {},
   "source": [
    "## 이선우"
   ]
  },
  {
   "cell_type": "code",
   "execution_count": null,
   "id": "73220e4c",
   "metadata": {},
   "outputs": [],
   "source": [
    "def solution(priorities, location):\n",
    "    answer=0\n",
    "    queue=deque(range(1,len(priorities)+1))\n",
    "    \n",
    "    while len(queue):\n",
    "        d = queue.popleft()\n",
    "        if max(priorities)>d:\n",
    "            queue.append(d)\n",
    "            \n",
    "        else:\n",
    "            answer+=1\n",
    "            if queue[0]==location:\n",
    "                return answer\n",
    "            \n",
    "    return answer"
   ]
  },
  {
   "cell_type": "markdown",
   "id": "7fd97f8b",
   "metadata": {},
   "source": [
    "## 이민우"
   ]
  },
  {
   "cell_type": "code",
   "execution_count": null,
   "id": "e3729a99",
   "metadata": {},
   "outputs": [],
   "source": [
    "def solution(priorities, location):\n",
    "    n=len(priorities)\n",
    "    t=0\n",
    "    for i in range(n):\n",
    "        while priorities[t%n]==0 or priorities[t%n]<max(priorities):\n",
    "            t+=1\n",
    "        if t%n==location:\n",
    "            return i+1\n",
    "        priorities[t%n]=0\n"
   ]
  },
  {
   "cell_type": "markdown",
   "id": "a3ee36d3",
   "metadata": {},
   "source": [
    "## Test"
   ]
  },
  {
   "cell_type": "code",
   "execution_count": null,
   "id": "90e7ac0b",
   "metadata": {},
   "outputs": [],
   "source": [
    "print(solution([2, 1, 3, 2], 2))\n",
    "print(solution([1, 1, 9, 1, 1, 1], 0))"
   ]
  }
 ],
 "metadata": {
  "kernelspec": {
   "display_name": "Python 3 (ipykernel)",
   "language": "python",
   "name": "python3"
  },
  "language_info": {
   "codemirror_mode": {
    "name": "ipython",
    "version": 3
   },
   "file_extension": ".py",
   "mimetype": "text/x-python",
   "name": "python",
   "nbconvert_exporter": "python",
   "pygments_lexer": "ipython3",
   "version": "3.9.7"
  },
  "toc": {
   "base_numbering": 1,
   "nav_menu": {},
   "number_sections": true,
   "sideBar": true,
   "skip_h1_title": false,
   "title_cell": "Table of Contents",
   "title_sidebar": "Contents",
   "toc_cell": false,
   "toc_position": {},
   "toc_section_display": true,
   "toc_window_display": false
  }
 },
 "nbformat": 4,
 "nbformat_minor": 5
}
