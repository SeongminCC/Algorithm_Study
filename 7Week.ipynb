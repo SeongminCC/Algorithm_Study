{
 "cells": [
  {
   "cell_type": "markdown",
   "id": "24bd4269",
   "metadata": {},
   "source": [
    "# URL : https://school.programmers.co.kr/learn/courses/30/lessons/42748"
   ]
  },
  {
   "cell_type": "markdown",
   "id": "4752dbb8",
   "metadata": {},
   "source": [
    "## K번째수"
   ]
  },
  {
   "cell_type": "markdown",
   "id": "ada3451f",
   "metadata": {},
   "source": [
    "## 모범 답안"
   ]
  },
  {
   "cell_type": "code",
   "execution_count": 9,
   "id": "afe4abdd",
   "metadata": {},
   "outputs": [
    {
     "name": "stdout",
     "output_type": "stream",
     "text": [
      "[5, 6, 3]\n"
     ]
    }
   ],
   "source": [
    "def solution(array, commands):\n",
    "    return list(map(lambda x:sorted(array[x[0]-1:x[1]])[x[2]-1], commands))\n",
    "\n",
    "\n",
    "print(solution(array = [1, 5, 2, 6, 3, 7, 4], commands = [[2, 5, 3], [4, 4, 1], [1, 7, 3]]))"
   ]
  },
  {
   "cell_type": "markdown",
   "id": "486cc9c7",
   "metadata": {},
   "source": [
    "## 조성민"
   ]
  },
  {
   "cell_type": "code",
   "execution_count": 8,
   "id": "480b2d96",
   "metadata": {},
   "outputs": [
    {
     "name": "stdout",
     "output_type": "stream",
     "text": [
      "[5, 6, 3]\n"
     ]
    }
   ],
   "source": [
    "def solution(array, commands):\n",
    "    answer = []\n",
    "    for i in range(len(commands)):\n",
    "        command = commands[i]\n",
    "        li = array[command[0]-1:command[1]]\n",
    "        li = sorted(li)\n",
    "        answer.append(li[command[2]-1])\n",
    "    return answer\n",
    "\n",
    "\n",
    "\n",
    "print(solution(array = [1, 5, 2, 6, 3, 7, 4], commands = [[2, 5, 3], [4, 4, 1], [1, 7, 3]]))"
   ]
  },
  {
   "cell_type": "markdown",
   "id": "b128f238",
   "metadata": {},
   "source": [
    "## 심경민"
   ]
  },
  {
   "cell_type": "code",
   "execution_count": null,
   "id": "0799d352",
   "metadata": {},
   "outputs": [],
   "source": [
    "def solution(citations):\n",
    "    for i in range(len(citations)):\n",
    "        sort_C = sorted(citations, reverse=True)  #  [6,5,3,1,0]\n",
    "        list1 = list(range(1,len(sort_C)+1))   # [1,2,3,4,5]\n",
    "        \n",
    "        if list1[i] > sort_C[i]:  # index가 더 큰 순간이 오면,\n",
    "            return list1[i-1]  # 그 이전의 값을 반환 \n"
   ]
  },
  {
   "cell_type": "markdown",
   "id": "44824ec8",
   "metadata": {},
   "source": [
    "## 이선우"
   ]
  },
  {
   "cell_type": "code",
   "execution_count": 7,
   "id": "61dba9b0",
   "metadata": {},
   "outputs": [],
   "source": [
    "def solution(array, commands):\n",
    "    answer=[]\n",
    "    for i in commands:\n",
    "        s=sorted(array[i[0]-1:i[1]])\n",
    "        answer.append(s[i[2]-1])\n",
    "    return answer\n"
   ]
  },
  {
   "cell_type": "markdown",
   "id": "aaffcbcc",
   "metadata": {},
   "source": [
    "## 이민우"
   ]
  },
  {
   "cell_type": "code",
   "execution_count": 5,
   "id": "aca8d4d9",
   "metadata": {},
   "outputs": [],
   "source": [
    "def solution(array, commands):\n",
    "    answer = []\n",
    "    for command in commands:\n",
    "        i,j,k = command\n",
    "        answer.append(list(sorted(array[i-1:j]))[k-1])\n",
    "    return answer"
   ]
  },
  {
   "cell_type": "markdown",
   "id": "f7150113",
   "metadata": {},
   "source": [
    "## Test"
   ]
  },
  {
   "cell_type": "code",
   "execution_count": 51,
   "id": "cc3ff82e",
   "metadata": {
    "scrolled": false
   },
   "outputs": [
    {
     "name": "stdout",
     "output_type": "stream",
     "text": [
      "8\n",
      "101\n",
      "110\n"
     ]
    }
   ],
   "source": [
    "print(solution(array = [1, 5, 2, 6, 3, 7, 4], commands = [[2, 5, 3], [4, 4, 1], [1, 7, 3]]))"
   ]
  },
  {
   "cell_type": "markdown",
   "id": "fb184e74",
   "metadata": {},
   "source": [
    "# URL : https://school.programmers.co.kr/learn/courses/30/lessons/42746"
   ]
  },
  {
   "cell_type": "markdown",
   "id": "d7213e92",
   "metadata": {},
   "source": [
    "## 가장 큰수"
   ]
  },
  {
   "cell_type": "markdown",
   "id": "a8afe31e",
   "metadata": {},
   "source": [
    "## 모범 답안"
   ]
  },
  {
   "cell_type": "code",
   "execution_count": null,
   "id": "a9f3831d",
   "metadata": {},
   "outputs": [],
   "source": []
  },
  {
   "cell_type": "markdown",
   "id": "91bc0806",
   "metadata": {},
   "source": [
    "## 조성민"
   ]
  },
  {
   "cell_type": "markdown",
   "id": "8eb33d53",
   "metadata": {},
   "source": [
    "### 순열을 사용해서 문제를 풀어봄"
   ]
  },
  {
   "cell_type": "code",
   "execution_count": 46,
   "id": "e5a1cd56",
   "metadata": {},
   "outputs": [
    {
     "name": "stdout",
     "output_type": "stream",
     "text": [
      "6210\n",
      "9534330\n"
     ]
    }
   ],
   "source": [
    "import itertools \n",
    "\n",
    "def solution(numbers):\n",
    "    li = []\n",
    "    for i in itertools.permutations(numbers):\n",
    "        i = str(i).replace(',','')\n",
    "        i = i.replace(' ','')\n",
    "        li.append(i[1:-1])\n",
    "        \n",
    "    return max(li)\n",
    "\n",
    "print(solution(numbers = [6, 10, 2]))\n",
    "print(solution(numbers = [3, 30, 34, 5, 9]))"
   ]
  },
  {
   "cell_type": "markdown",
   "id": "ea860cda",
   "metadata": {},
   "source": [
    "**하지만 시간 초과가 발생했고 아무래도 permutations 함수 연산에서 연산량이 많았던 거 같다.**"
   ]
  },
  {
   "cell_type": "code",
   "execution_count": 60,
   "id": "cf5d1412",
   "metadata": {},
   "outputs": [
    {
     "name": "stdout",
     "output_type": "stream",
     "text": [
      "6210\n",
      "9534330\n"
     ]
    }
   ],
   "source": [
    "import itertools \n",
    "\n",
    "def solution(numbers):\n",
    "    li = []\n",
    "    for i in itertools.permutations(numbers):\n",
    "        i = str(i).replace(',','')\n",
    "        i = i.replace(' ','')\n",
    "        li.append(i[1:-1])\n",
    "        \n",
    "    return max(li)\n",
    "\n",
    "print(solution(numbers = [6, 10, 2]))\n",
    "print(solution(numbers = [3, 30, 34, 5, 9]))"
   ]
  },
  {
   "cell_type": "markdown",
   "id": "b657d3f8",
   "metadata": {},
   "source": [
    "## 심경민"
   ]
  },
  {
   "cell_type": "code",
   "execution_count": 45,
   "id": "65e2cf9f",
   "metadata": {},
   "outputs": [
    {
     "name": "stdout",
     "output_type": "stream",
     "text": [
      "6210\n"
     ]
    }
   ],
   "source": [
    "import random\n",
    "\n",
    "def solution(numbers):\n",
    "    answer = ''\n",
    "    lar = 0\n",
    "    while True: #돌려잇\n",
    "        num1 = random.shuffle(numbers)  \n",
    "        #num2 = list(map(str,num1))\n",
    "        num2 = ''.join(str(num1))  # 이게 문자열 합치기\n",
    "        num3 = int(num2) # 문자열 실수로 변경\n",
    "        if int(num3) > lar:  # 문자열 정수로 변경 (왜 이렇게 했냐면 문자열이 바로 정수로 변환하니까 안된다길래 실수는 되나 해서,... 근데 이것도 안됨)\n",
    "            lar = int(num3)\n",
    "        else:\n",
    "            lar = answer\n",
    "        break\n",
    "    return answer\n"
   ]
  },
  {
   "cell_type": "markdown",
   "id": "3b3e56af",
   "metadata": {},
   "source": [
    "## 이선우"
   ]
  },
  {
   "cell_type": "code",
   "execution_count": 6,
   "id": "af0decf5",
   "metadata": {},
   "outputs": [
    {
     "name": "stdout",
     "output_type": "stream",
     "text": [
      "6210\n",
      "9534330\n",
      "0000\n"
     ]
    }
   ],
   "source": [
    "def solution(numbers):\n",
    "    answer = ''\n",
    "    num = list(map(str, numbers))\n",
    "    #천의 자리로 맞춰주기\n",
    "    s = sorted(num,key=lambda x: x*3,reverse=True)\n",
    "    answer += ''.join(s)\n",
    "    return answer\n",
    "    return str(int(answer))\n",
    "\n",
    "\n",
    "print(solution(numbers = [6, 10, 2]))\n",
    "print(solution(numbers = [3, 30, 34, 5, 9]))\n",
    "print(solution(numbers = [0, 0, 0, 0]))\n"
   ]
  },
  {
   "cell_type": "markdown",
   "id": "641a593d",
   "metadata": {},
   "source": [
    "## 이민우"
   ]
  },
  {
   "cell_type": "code",
   "execution_count": 40,
   "id": "557463fd",
   "metadata": {},
   "outputs": [
    {
     "name": "stdout",
     "output_type": "stream",
     "text": [
      "True\n",
      "True\n",
      "False\n",
      "False\n",
      "False\n",
      "True\n"
     ]
    }
   ],
   "source": [
    "import functools\n",
    "\n",
    "def comparator(a,b):\n",
    "    t1 = a+b\n",
    "    t2 = b+a\n",
    "    return (int(t1) > int(t2)) - (int(t1) < int(t2)) #  t1이 크다면 1  // t2가 크다면 -1  //  같으면 0\n",
    "\n",
    "def solution(numbers):\n",
    "    n = [str(x) for x in numbers]\n",
    "    n = sorted(n, key=functools.cmp_to_key(comparator),reverse=True)\n",
    "    answer = str(int(''.j"
   ]
  },
  {
   "cell_type": "markdown",
   "id": "36bf388b",
   "metadata": {},
   "source": [
    "## Test"
   ]
  },
  {
   "cell_type": "code",
   "execution_count": null,
   "id": "836ce16d",
   "metadata": {},
   "outputs": [],
   "source": [
    "print(solution(numbers = [6, 10, 2]))\n",
    "print(solution(numbers = [3, 30, 34, 5, 9]))"
   ]
  },
  {
   "cell_type": "markdown",
   "id": "6af41b81",
   "metadata": {},
   "source": [
    "# URL : https://school.programmers.co.kr/learn/courses/30/lessons/42747"
   ]
  },
  {
   "cell_type": "markdown",
   "id": "6e8869f3",
   "metadata": {},
   "source": [
    "## H-Index"
   ]
  },
  {
   "cell_type": "markdown",
   "id": "a35408b4",
   "metadata": {},
   "source": [
    "## 모범 답안"
   ]
  },
  {
   "cell_type": "code",
   "execution_count": null,
   "id": "b82fc7f6",
   "metadata": {},
   "outputs": [],
   "source": []
  },
  {
   "cell_type": "markdown",
   "id": "ecfc9d43",
   "metadata": {},
   "source": [
    "## 조성민"
   ]
  },
  {
   "cell_type": "code",
   "execution_count": 39,
   "id": "b7cf1617",
   "metadata": {},
   "outputs": [
    {
     "name": "stdout",
     "output_type": "stream",
     "text": [
      "3\n"
     ]
    }
   ],
   "source": [
    "def solution(citations):\n",
    "    sort_li = sorted(citations)\n",
    "    \n",
    "    a = []\n",
    "    for h in range(1, len(citations)+1):\n",
    "        if len([i for i in sort_li if i >= h]) >= h:\n",
    "            a.append(h)\n",
    "            \n",
    "    return max(a)\n",
    "                \n",
    "    \n",
    "    \n",
    "\n",
    "\n",
    "\n",
    "print(solution([3,0,6,1,5]))"
   ]
  },
  {
   "cell_type": "code",
   "execution_count": 35,
   "id": "52dd6de8",
   "metadata": {},
   "outputs": [
    {
     "name": "stdout",
     "output_type": "stream",
     "text": [
      "3\n"
     ]
    }
   ],
   "source": [
    "def solution(citations):\n",
    "    sort_li = sorted(citations, reverse = True)\n",
    "    \n",
    "    for h in range(1, len(citations)+1):\n",
    "        if len([i for i in sort_li[:h]]) + len([i for i in sort_li[h:] if i < h]) == len(sort_li):\n",
    "            return h\n",
    "    \n",
    "    \n",
    "    \n",
    "    \n",
    "\n",
    "\n",
    "\n",
    "print(solution([3,0,6,1,5]))"
   ]
  },
  {
   "cell_type": "code",
   "execution_count": 58,
   "id": "0bd02920",
   "metadata": {},
   "outputs": [
    {
     "name": "stdout",
     "output_type": "stream",
     "text": [
      "3\n"
     ]
    }
   ],
   "source": [
    "def solution(citations):\n",
    "    h = len(citations)\n",
    "    sort_li = sorted(citations)\n",
    "    \n",
    "    \n",
    "    while True:\n",
    "        i = 0\n",
    "        for num in sort_li:\n",
    "            if num >= h:\n",
    "                i += 1\n",
    "            \n",
    "        if i == h:\n",
    "            return h\n",
    "        else:\n",
    "            h -= 1\n",
    "            i = 0\n",
    "\n",
    "\n",
    "\n",
    "print(solution([3,0,6,1,5]))"
   ]
  },
  {
   "cell_type": "markdown",
   "id": "ccff78b1",
   "metadata": {},
   "source": [
    "## 심경민"
   ]
  },
  {
   "cell_type": "code",
   "execution_count": 4,
   "id": "0e221556",
   "metadata": {},
   "outputs": [
    {
     "data": {
      "text/plain": [
       "False"
      ]
     },
     "execution_count": 4,
     "metadata": {},
     "output_type": "execute_result"
    }
   ],
   "source": [
    "def solution(citations):\n",
    "    for i in range(len(citations)):\n",
    "        sort_C = sorted(citations, reverse=True)  #  [6,5,3,1,0]\n",
    "        list1 = list(range(1,len(sort_C)+1))   # [1,2,3,4,5]\n",
    "        \n",
    "        if list1[i] > sort_C[i]:  # index가 더 큰 순간이 오면,\n",
    "            return list1[i-1]  # 그 이전의 값을 반환 "
   ]
  },
  {
   "cell_type": "markdown",
   "id": "7efc84ed",
   "metadata": {},
   "source": [
    "## 이선우"
   ]
  },
  {
   "cell_type": "code",
   "execution_count": 10,
   "id": "d6721f2d",
   "metadata": {},
   "outputs": [
    {
     "name": "stdout",
     "output_type": "stream",
     "text": [
      "0\n",
      "1 <= 6\n",
      "###\n",
      "1\n",
      "2 <= 5\n",
      "###\n",
      "2\n",
      "3 <= 3\n",
      "###\n",
      "3\n"
     ]
    }
   ],
   "source": [
    "def solution(citations):\n",
    "    answer = 0\n",
    "    c = sorted(citations,reverse=True)\n",
    "    for j in range(len(citations)):\n",
    "        if j+1<=c[j]:\n",
    "            print(j)\n",
    "            print(f\"{j+1} <= {c[j]}\")\n",
    "            print('###')\n",
    "            answer+=1\n",
    "    return answer   \n",
    "\n",
    "\n",
    "# 6 5 3 1 0\n",
    "\n",
    "print(solution([3,0,6,1,5]))"
   ]
  },
  {
   "cell_type": "markdown",
   "id": "237eb23a",
   "metadata": {},
   "source": [
    "## 이민우"
   ]
  },
  {
   "cell_type": "code",
   "execution_count": null,
   "id": "21a006ef",
   "metadata": {},
   "outputs": [],
   "source": [
    "def solution(citations):\n",
    "    citations.sort(reverse=True)\n",
    "    answer = max(map(min, enumerate(citations, start=1)))\n",
    "    return answer"
   ]
  },
  {
   "cell_type": "markdown",
   "id": "dc2ad5f9",
   "metadata": {},
   "source": [
    "## Test"
   ]
  },
  {
   "cell_type": "code",
   "execution_count": null,
   "id": "0f6dd95d",
   "metadata": {},
   "outputs": [],
   "source": [
    "print(solution([3,0,6,1,5]))"
   ]
  }
 ],
 "metadata": {
  "kernelspec": {
   "display_name": "Python 3 (ipykernel)",
   "language": "python",
   "name": "python3"
  },
  "language_info": {
   "codemirror_mode": {
    "name": "ipython",
    "version": 3
   },
   "file_extension": ".py",
   "mimetype": "text/x-python",
   "name": "python",
   "nbconvert_exporter": "python",
   "pygments_lexer": "ipython3",
   "version": "3.9.7"
  },
  "toc": {
   "base_numbering": 1,
   "nav_menu": {},
   "number_sections": true,
   "sideBar": true,
   "skip_h1_title": false,
   "title_cell": "Table of Contents",
   "title_sidebar": "Contents",
   "toc_cell": false,
   "toc_position": {},
   "toc_section_display": true,
   "toc_window_display": false
  }
 },
 "nbformat": 4,
 "nbformat_minor": 5
}
