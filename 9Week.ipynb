{
 "cells": [
  {
   "cell_type": "markdown",
   "id": "24bd4269",
   "metadata": {},
   "source": [
    "# URL : https://school.programmers.co.kr/learn/courses/30/lessons/42839"
   ]
  },
  {
   "cell_type": "markdown",
   "id": "4752dbb8",
   "metadata": {},
   "source": [
    "## 소수 찾기"
   ]
  },
  {
   "cell_type": "markdown",
   "id": "ada3451f",
   "metadata": {},
   "source": [
    "## 모범 답안"
   ]
  },
  {
   "cell_type": "code",
   "execution_count": null,
   "id": "afe4abdd",
   "metadata": {},
   "outputs": [],
   "source": [
    "from itertools import permutations\n",
    "def solution(n):\n",
    "    a = set()\n",
    "    for i in range(len(n)):\n",
    "        a |= set(map(int, map(\"\".join, permutations(list(n), i + 1))))\n",
    "    a -= set(range(0, 2))\n",
    "    for i in range(2, int(max(a) ** 0.5) + 1):\n",
    "        a -= set(range(i * 2, max(a) + 1, i))\n",
    "    return len(a)"
   ]
  },
  {
   "cell_type": "markdown",
   "id": "486cc9c7",
   "metadata": {},
   "source": [
    "## 조성민"
   ]
  },
  {
   "cell_type": "code",
   "execution_count": 55,
   "id": "0be25f3f",
   "metadata": {},
   "outputs": [
    {
     "name": "stdout",
     "output_type": "stream",
     "text": [
      "2\n"
     ]
    }
   ],
   "source": [
    "from itertools import permutations\n",
    "\n",
    "def solution(numbers):\n",
    "    num_li = list(numbers)\n",
    "    per_li = []\n",
    "    \n",
    "    \n",
    "    for i in range(1, len(num_li) + 1):\n",
    "        for per in permutations(num_li, i):\n",
    "            per_li.append(int(\"\".join(per)))\n",
    "    \n",
    "    \n",
    "    # 중복제거\n",
    "    per_li = list(set(per_li))\n",
    "    \n",
    "    answer = 0\n",
    "    for per in per_li: # [1, 7, 17 ,71]  /  [0, 1, 101, 10, 11, 110]\n",
    "        divide_li = []\n",
    "        \n",
    "        if per == 0:\n",
    "            continue\n",
    "        \n",
    "        \n",
    "                \n",
    "        # 약수 구하기\n",
    "        for i in range(1, int(per**(1/2)) + 1):\n",
    "            if per % i == 0:\n",
    "                divide_li.append(i)\n",
    "                if (i**2) != per:\n",
    "                    divide_li.append(per // i)\n",
    "            \n",
    "                \n",
    "        \n",
    "        # 약수에서 1을 뺐을 때 길이가 1이면 소수\n",
    "        divide_li.pop(0)\n",
    "        if len(divide_li) == 1:\n",
    "            answer += 1\n",
    "            \n",
    "    return answer\n",
    "                \n",
    "    \n",
    "    \n",
    "    \n",
    "# print(solution(\"17\"))\n",
    "print(solution(\"011\"))"
   ]
  },
  {
   "cell_type": "markdown",
   "id": "b128f238",
   "metadata": {},
   "source": [
    "## 심경민"
   ]
  },
  {
   "cell_type": "code",
   "execution_count": 4,
   "id": "0799d352",
   "metadata": {},
   "outputs": [],
   "source": [
    "# 다른 사람의 풀이입니당..\n",
    "\n",
    "from itertools import permutations\n",
    "\n",
    "def sosu(n):  # 소수 구하는 함수\n",
    "    if n < 2:  # 0 or 1\n",
    "        return False\n",
    "    \n",
    "    for i in range(2, n):\n",
    "        if n%i == 0:\n",
    "            return False\n",
    "        \n",
    "    return True    \n",
    "\n",
    "\n",
    "def solution(numbers):\n",
    "    answer=[]\n",
    "    for i in range(1, len(numbers)+1):\n",
    "        arr = list(permutations(numbers, i)) \n",
    "        for j in range(len(arr)):\n",
    "            num = int(''.join(map(str,arr[j])))  # arr[j]를 str로 변경, 합치기\n",
    "            ## \"011\"일 경우 permutations를 돌리면 [('0', '1', '1'), ('0', '1', '1'), ('1', '0', '1'), ('1', '1', '0'), ('1', '0', '1'), ('1', '1', '0')] 이렇게 순열이 나오게 되는데 이것을 num = int(''.join(map(str,arr[j]))) 과정을 거쳐 합치게 되면 중복된 숫자가 만들어지기 때문에 마지막에 set으로 중복제거를 해줘야한다\n",
    "            if sosu(num):\n",
    "                answer.append(num)\n",
    "                \n",
    "    answer= set(answer) # set을 통해 중복 제거 \n",
    "    return len(answer)\n"
   ]
  },
  {
   "cell_type": "markdown",
   "id": "02e4c442",
   "metadata": {},
   "source": [
    "## 이선우"
   ]
  },
  {
   "cell_type": "code",
   "execution_count": 1,
   "id": "076527af",
   "metadata": {},
   "outputs": [],
   "source": [
    "from itertools import permutations\n",
    "def prime(n): #소수 판별\n",
    "    if n<2: \n",
    "        return False\n",
    "    for i in range(2, n):\n",
    "        if n % i == 0:  \n",
    "            return False  \n",
    "    return True\n",
    "\n",
    "\n",
    "def solution(numbers):\n",
    "    answer = 0\n",
    "    for i in range(1,len(numbers)+1):\n",
    "        p=list(set(map(int, map(\"\".join, permutations(list(numbers), i)))))\n",
    "        for j in p:\n",
    "            if prime(j):\n",
    "                answer += 1\n",
    "    return answer\n"
   ]
  },
  {
   "cell_type": "markdown",
   "id": "aaffcbcc",
   "metadata": {},
   "source": [
    "## 이민우"
   ]
  },
  {
   "cell_type": "code",
   "execution_count": 5,
   "id": "aca8d4d9",
   "metadata": {},
   "outputs": [],
   "source": [
    "from itertools import permutations\n",
    "\n",
    "def isprime(n):\n",
    "    if n < 2:\n",
    "        return False\n",
    "    for i in range(2, n):\n",
    "        if n % i==0:\n",
    "            return False\n",
    "    return True\n",
    "\n",
    "def solution(numbers):\n",
    "    answers = []\n",
    "    answer = 0\n",
    "    per = []\n",
    "    \n",
    "    for i in range(1,len(numbers)+1):\n",
    "        per = list(map(''.join, permutations(numbers, i)))\n",
    "        for p in list(set(per)):\n",
    "            if isprime(int(p)):\n",
    "                answers.append(int(p))\n",
    "    answer = len(set(answers))\n",
    "    return answer"
   ]
  },
  {
   "cell_type": "markdown",
   "id": "f7150113",
   "metadata": {},
   "source": [
    "## Test"
   ]
  },
  {
   "cell_type": "code",
   "execution_count": 5,
   "id": "cc3ff82e",
   "metadata": {
    "scrolled": false
   },
   "outputs": [
    {
     "name": "stdout",
     "output_type": "stream",
     "text": [
      "3\n",
      "2\n"
     ]
    }
   ],
   "source": [
    "print(solution(\"17\"))\n",
    "print(solution(\"011\"))"
   ]
  },
  {
   "cell_type": "markdown",
   "id": "fb184e74",
   "metadata": {},
   "source": [
    "# URL : https://school.programmers.co.kr/learn/courses/30/lessons/42842"
   ]
  },
  {
   "cell_type": "markdown",
   "id": "d7213e92",
   "metadata": {},
   "source": [
    "## 카펫"
   ]
  },
  {
   "cell_type": "markdown",
   "id": "a8afe31e",
   "metadata": {},
   "source": [
    "## 모범 답안"
   ]
  },
  {
   "cell_type": "code",
   "execution_count": null,
   "id": "a9f3831d",
   "metadata": {},
   "outputs": [],
   "source": [
    "def solution(brown, red):\n",
    "    for i in range(1, int(red**(1/2))+1):\n",
    "        if red % i == 0:\n",
    "            if 2*(i + red//i) == brown-4:\n",
    "                return [red//i+2, i+2]"
   ]
  },
  {
   "cell_type": "markdown",
   "id": "91bc0806",
   "metadata": {},
   "source": [
    "## 조성민"
   ]
  },
  {
   "cell_type": "markdown",
   "id": "7c7ab09b",
   "metadata": {},
   "source": [
    "(노란색 가로 x 2) + (노란색 세로 x 2) + 4 == 갈색 총 개수"
   ]
  },
  {
   "cell_type": "code",
   "execution_count": 78,
   "id": "e5a1cd56",
   "metadata": {},
   "outputs": [
    {
     "name": "stdout",
     "output_type": "stream",
     "text": [
      "(4, 3)\n",
      "(3, 3)\n",
      "(8, 6)\n"
     ]
    }
   ],
   "source": [
    "def solution(brown, yellow):\n",
    "    # 약수 구하기\n",
    "    height = []\n",
    "    width = []\n",
    "    for i in range(1, int(yellow**(1/2)) + 1):\n",
    "        if yellow % i == 0:\n",
    "            height.append(i)\n",
    "            \n",
    "            if (i**2) != yellow:\n",
    "                width.append(yellow // i)   \n",
    "            else:\n",
    "                width.append(i)\n",
    "    \n",
    "\n",
    "    for w, h in zip(width, height):\n",
    "        if (w*2)+(h*2)+4 == brown:\n",
    "            return (w+2), (h+2)\n",
    "            \n",
    "            \n",
    "\n",
    "\n",
    "print(solution(10, 2))\n",
    "print(solution(8, 1))\n",
    "print(solution(24, 24))"
   ]
  },
  {
   "cell_type": "markdown",
   "id": "b657d3f8",
   "metadata": {},
   "source": [
    "## 심경민"
   ]
  },
  {
   "cell_type": "code",
   "execution_count": null,
   "id": "65e2cf9f",
   "metadata": {},
   "outputs": [],
   "source": [
    "def solution(brown, yellow):\n",
    "    answer = []\n",
    "    total = brown + yellow\n",
    "    for col in range(3,total):  # 노란 부분이 생기기 위해서는 세로 길이가 최소한 3은 되어야 함. \n",
    "        row = total / col\n",
    "        if row >= col:   # 가로가 세로보다 길거나 같음. (제한사항 3)\n",
    "            if 2*row + 2*col - 4  == brown:  # 테두리 다 더하고, 겹치는 꼭짓점 빼기 = 브라운\n",
    "                return [row,col]\n",
    "            \n",
    "    return answer"
   ]
  },
  {
   "cell_type": "markdown",
   "id": "3b3e56af",
   "metadata": {},
   "source": [
    "## 이선우"
   ]
  },
  {
   "cell_type": "code",
   "execution_count": 3,
   "id": "af0decf5",
   "metadata": {},
   "outputs": [],
   "source": [
    "#1번방법\n",
    "def solution(brown, yellow):\n",
    "    p = brown + yellow\n",
    "    for h in range(1,p+1): #가로세로 지정\n",
    "        if p % h ==0: #p의 약수일때, \n",
    "            w = p/h        #ex) 12,6,4,3,2,1\n",
    "            if w >= h:\n",
    "                if w+h == (brown+4)/2:\n",
    "                    return [w,h]\n",
    "\n",
    "#2번방법 - 이차방정식 >> 근의 공식\n",
    "import math\n",
    "def solution(brown, yellow):\n",
    "    w = ((brown+4)/2 + math.sqrt(((brown+4)/2)**2 - 4*(brown + yellow)))/2\n",
    "    h = ((brown+4)/2 - math.sqrt(((brown+4)/2)**2 - 4*(brown + yellow)))/2  \n",
    "    return [w,h]"
   ]
  },
  {
   "cell_type": "markdown",
   "id": "641a593d",
   "metadata": {},
   "source": [
    "## 이민우"
   ]
  },
  {
   "cell_type": "code",
   "execution_count": 19,
   "id": "557463fd",
   "metadata": {},
   "outputs": [
    {
     "name": "stdout",
     "output_type": "stream",
     "text": [
      "[4, 3]\n",
      "[3, 3]\n",
      "[8, 6]\n"
     ]
    }
   ],
   "source": [
    "def solution(brown, yellow):\n",
    "    answer = []\n",
    "    a=0\n",
    "    a=int((brown-4)/2)\n",
    "    for i in range(1, ((a+1)//2+1)): # 모서리를 제거한 브라운 타일의 밑변 높이 곱하기가 옐로우타일의 개수\n",
    "        if i*(a-i) == yellow:          \n",
    "            answer.append(a-i+2)#가로\n",
    "            answer.append(i+2)#세로\n",
    "            break\n",
    "    return answer\n",
    "\n",
    "\n",
    "print(solution(10, 2))\n",
    "print(solution(8, 1))\n",
    "print(solution(24, 24))"
   ]
  },
  {
   "cell_type": "markdown",
   "id": "36bf388b",
   "metadata": {},
   "source": [
    "## Test"
   ]
  },
  {
   "cell_type": "code",
   "execution_count": 80,
   "id": "836ce16d",
   "metadata": {},
   "outputs": [
    {
     "name": "stdout",
     "output_type": "stream",
     "text": [
      "(4, 3)\n",
      "(3, 3)\n",
      "(8, 6)\n"
     ]
    }
   ],
   "source": [
    "print(solution(10, 2))\n",
    "print(solution(8, 1))\n",
    "print(solution(24, 24))"
   ]
  }
 ],
 "metadata": {
  "kernelspec": {
   "display_name": "Python 3 (ipykernel)",
   "language": "python",
   "name": "python3"
  },
  "language_info": {
   "codemirror_mode": {
    "name": "ipython",
    "version": 3
   },
   "file_extension": ".py",
   "mimetype": "text/x-python",
   "name": "python",
   "nbconvert_exporter": "python",
   "pygments_lexer": "ipython3",
   "version": "3.9.7"
  },
  "toc": {
   "base_numbering": 1,
   "nav_menu": {},
   "number_sections": true,
   "sideBar": true,
   "skip_h1_title": false,
   "title_cell": "Table of Contents",
   "title_sidebar": "Contents",
   "toc_cell": false,
   "toc_position": {},
   "toc_section_display": true,
   "toc_window_display": false
  }
 },
 "nbformat": 4,
 "nbformat_minor": 5
}
