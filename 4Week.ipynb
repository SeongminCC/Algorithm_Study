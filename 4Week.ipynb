{
 "cells": [
  {
   "cell_type": "markdown",
   "id": "24bd4269",
   "metadata": {},
   "source": [
    "# URL : https://school.programmers.co.kr/learn/courses/30/lessons/12906"
   ]
  },
  {
   "cell_type": "markdown",
   "id": "4752dbb8",
   "metadata": {},
   "source": [
    "## 같은 숫자는 싫어"
   ]
  },
  {
   "cell_type": "markdown",
   "id": "ada3451f",
   "metadata": {},
   "source": [
    "## 모범 답안"
   ]
  },
  {
   "cell_type": "code",
   "execution_count": 1,
   "id": "afe4abdd",
   "metadata": {},
   "outputs": [
    {
     "name": "stdout",
     "output_type": "stream",
     "text": [
      "['1', '3', '0', '3']\n"
     ]
    }
   ],
   "source": [
    "# 문제가 개편되었습니다. 이로 인해 함수 구성이나 테스트케이스가 변경되어, 과거의 코드는 동작하지 않을 수 있습니다.\n",
    "# 새로운 함수 구성을 적용하려면 [코드 초기화] 버튼을 누르세요. 단, [코드 초기화] 버튼을 누르면 작성 중인 코드는 사라집니다.\n",
    "def no_continuous(s):\n",
    "    # 함수를 완성하세요\n",
    "    a=[ v for i,v in enumerate(s) if s[i-1]!=s[i]]\n",
    "\n",
    "    return a\n",
    "\n",
    "# 아래는 테스트로 출력해 보기 위한 코드입니다.\n",
    "print( no_continuous( \"133303\" ))"
   ]
  },
  {
   "cell_type": "markdown",
   "id": "486cc9c7",
   "metadata": {},
   "source": [
    "## 조성민"
   ]
  },
  {
   "cell_type": "code",
   "execution_count": 2,
   "id": "0be25f3f",
   "metadata": {},
   "outputs": [],
   "source": [
    "def solution(arr):\n",
    "    stack = []\n",
    "    stack.append(arr[0])\n",
    "    for num in arr[1:]:\n",
    "        if num == stack[-1]:\n",
    "            pass\n",
    "        else:\n",
    "            stack.append(num)\n",
    "            \n",
    "    return stack"
   ]
  },
  {
   "cell_type": "markdown",
   "id": "b128f238",
   "metadata": {},
   "source": [
    "## 심경민"
   ]
  },
  {
   "cell_type": "markdown",
   "id": "e6568dc2",
   "metadata": {},
   "source": [
    "이렇게 했는데요? 근데 이제 테스트 2번. \n",
    "즉 [4,4,4,3,3]이 장렬히 실패함.\n",
    "\n",
    "왜인지 고민하느라 제사지냄.\n",
    "\n",
    "그래서 제가 어떤 결론을 냈느냐?? 뭔가 하나씩 적어가면서 해보니까 어라? 근데 그럼,, i-1일때 0인경우는,,, 안되지 않나? 하는 생각이 지나감. 그래서 \n",
    "\n",
    "def solution(arr):\n",
    "    aaa = []\n",
    "    aaa.append(arr[0])  # 안 넣으면 테스트 1에서 1이 제거됨. 넣어야 돌아감.\n",
    "    \n",
    "    for i in range(1,len(arr)):  # 일단 돌려 \n",
    "        if arr[i-1] != arr[i]:   # 넣어야할 것과 그 전의 것 비교해 근데 다르면 넣어\n",
    "            aaa.append(arr[i])   # 어 넣었어.\n",
    "    \n",
    "    return aaa\n",
    "\n",
    "하니까 1,len(arr)하니까 됨 ㅋㅋ 개쩌는듯\n",
    "- 개쩐다 ㄷㄷ"
   ]
  },
  {
   "cell_type": "code",
   "execution_count": null,
   "id": "e5e81a41",
   "metadata": {},
   "outputs": [],
   "source": [
    "def solution(arr):\n",
    "    aaa = []\n",
    "    aaa.append(arr[0])  # 안 넣으면 테스트 1에서 1이 제거됨. 넣어야 돌아감.\n",
    "    \n",
    "    for i in range(1,len(arr)):  # 일단 돌려 (1부터해야함 0인경우 고려)\n",
    "        if arr[i-1] != arr[i]:   # 넣어야할 것과 그 전의 것 비교해 근데 다르면 넣어\n",
    "            aaa.append(arr[i])   # 어 넣었어\n",
    "    \n",
    "    return aaa"
   ]
  },
  {
   "cell_type": "markdown",
   "id": "44824ec8",
   "metadata": {},
   "source": [
    "## 이선우"
   ]
  },
  {
   "cell_type": "code",
   "execution_count": 7,
   "id": "61dba9b0",
   "metadata": {},
   "outputs": [],
   "source": [
    "def solution(arr):\n",
    "    answer = []\n",
    "    answer.append(arr[0])\n",
    "    for n in range(1,len(arr)):\n",
    "        if arr[n-1]==arr[n]: \n",
    "            answer.pop()\n",
    "        answer.append(arr[n])\n",
    "    return answer"
   ]
  },
  {
   "cell_type": "markdown",
   "id": "aaffcbcc",
   "metadata": {},
   "source": [
    "## 이민우"
   ]
  },
  {
   "cell_type": "code",
   "execution_count": 5,
   "id": "aca8d4d9",
   "metadata": {},
   "outputs": [],
   "source": [
    "def solution(arr):\n",
    "    stack = []\n",
    "    result = [arr[0]]\n",
    "    for num in arr:\n",
    "        if stack:\n",
    "            c = stack.pop()\n",
    "            if c != num:\n",
    "                result.append(num)\n",
    "        stack.append(num)\n",
    "    return result"
   ]
  },
  {
   "cell_type": "markdown",
   "id": "f7150113",
   "metadata": {},
   "source": [
    "## Test"
   ]
  },
  {
   "cell_type": "code",
   "execution_count": 8,
   "id": "cc3ff82e",
   "metadata": {
    "scrolled": true
   },
   "outputs": [
    {
     "name": "stdout",
     "output_type": "stream",
     "text": [
      "[1, 3, 0, 1]\n",
      "[4, 3]\n"
     ]
    }
   ],
   "source": [
    "print(solution([1,1,3,3,0,1,1]))\n",
    "print(solution([4,4,4,3,3]))"
   ]
  },
  {
   "cell_type": "markdown",
   "id": "0f475e6a",
   "metadata": {},
   "source": [
    "# 다들 수고하셨습니다\n",
    "- \n",
    "- \n",
    "- \n",
    "\n",
    "**시험 잘 봐~~**"
   ]
  }
 ],
 "metadata": {
  "kernelspec": {
   "display_name": "Python 3 (ipykernel)",
   "language": "python",
   "name": "python3"
  },
  "language_info": {
   "codemirror_mode": {
    "name": "ipython",
    "version": 3
   },
   "file_extension": ".py",
   "mimetype": "text/x-python",
   "name": "python",
   "nbconvert_exporter": "python",
   "pygments_lexer": "ipython3",
   "version": "3.9.7"
  },
  "toc": {
   "base_numbering": 1,
   "nav_menu": {},
   "number_sections": true,
   "sideBar": true,
   "skip_h1_title": false,
   "title_cell": "Table of Contents",
   "title_sidebar": "Contents",
   "toc_cell": false,
   "toc_position": {},
   "toc_section_display": true,
   "toc_window_display": false
  }
 },
 "nbformat": 4,
 "nbformat_minor": 5
}
