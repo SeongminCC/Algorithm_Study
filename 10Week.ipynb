{
 "cells": [
  {
   "cell_type": "markdown",
   "id": "24bd4269",
   "metadata": {},
   "source": [
    "# URL : https://school.programmers.co.kr/learn/courses/30/lessons/87946"
   ]
  },
  {
   "cell_type": "markdown",
   "id": "4752dbb8",
   "metadata": {},
   "source": [
    "## 피로도"
   ]
  },
  {
   "cell_type": "markdown",
   "id": "ada3451f",
   "metadata": {},
   "source": [
    "## 모범 답안"
   ]
  },
  {
   "cell_type": "code",
   "execution_count": 12,
   "id": "afe4abdd",
   "metadata": {},
   "outputs": [
    {
     "name": "stdout",
     "output_type": "stream",
     "text": [
      "3\n"
     ]
    }
   ],
   "source": [
    "answer = 0\n",
    "N = 0\n",
    "visited = []\n",
    "\n",
    "\n",
    "def dfs(k, cnt, dungeons):  # k, 1, ~\n",
    "    global answer\n",
    "    if cnt > answer:\n",
    "        answer = cnt # answer = 1 -> 2\n",
    "\n",
    "    for j in range(N):  # range(3)\n",
    "        if k >= dungeons[j][0] and not visited[j]:  # 0 : False  / 1 : True\n",
    "            visited[j] = 1  # visited : [1, 1, 1]\n",
    "            dfs(k - dungeons[j][1], cnt + 1, dungeons)  # dfs(80-20-40, 0+1+1, [[80,20],[50,40],[30,10]])\n",
    "            visited[j] = 0\n",
    "\n",
    "\n",
    "def solution(k, dungeons):\n",
    "    global N, visited\n",
    "    N = len(dungeons) # 3\n",
    "    visited = [0] * N # [0, 0, 0]\n",
    "    dfs(k, 0, dungeons)\n",
    "    return answer\n",
    "\n",
    "print(solution(80, [[80,20],[50,40],[30,10]]))"
   ]
  },
  {
   "cell_type": "code",
   "execution_count": 9,
   "id": "ac85a4b0",
   "metadata": {},
   "outputs": [
    {
     "name": "stdout",
     "output_type": "stream",
     "text": [
      "o\n"
     ]
    }
   ],
   "source": [
    "True : 1  /  False : 0"
   ]
  },
  {
   "cell_type": "code",
   "execution_count": 11,
   "id": "6a404de3",
   "metadata": {},
   "outputs": [
    {
     "name": "stdout",
     "output_type": "stream",
     "text": [
      "0\n",
      "o\n"
     ]
    }
   ],
   "source": [
    "visited = [0] * 3\n",
    "print(visited[0])\n",
    "if not visited[0]:\n",
    "    print('o')"
   ]
  },
  {
   "cell_type": "markdown",
   "id": "486cc9c7",
   "metadata": {},
   "source": [
    "## 조성민"
   ]
  },
  {
   "cell_type": "code",
   "execution_count": 41,
   "id": "0be25f3f",
   "metadata": {},
   "outputs": [
    {
     "name": "stdout",
     "output_type": "stream",
     "text": [
      "3\n"
     ]
    }
   ],
   "source": [
    "from itertools import permutations\n",
    "def solution(k, dungeons):\n",
    "    answer = []\n",
    "    for order in permutations(dungeons, len(dungeons)):\n",
    "        num = 0\n",
    "        heal = k\n",
    "        for a, b in order: # a : 최소 필요 피로도  /  b : 소모 피로도\n",
    "            if heal >= a:\n",
    "                heal -= b\n",
    "                num += 1\n",
    "                \n",
    "        \n",
    "        answer.append(num)\n",
    "    return max(answer)\n",
    "        \n",
    "        \n",
    "print(solution(80, [[80,20],[50,40],[30,10]]))"
   ]
  },
  {
   "cell_type": "markdown",
   "id": "b128f238",
   "metadata": {},
   "source": [
    "## 심경민"
   ]
  },
  {
   "cell_type": "code",
   "execution_count": 37,
   "id": "0799d352",
   "metadata": {},
   "outputs": [
    {
     "name": "stdout",
     "output_type": "stream",
     "text": [
      "a\n",
      "a\n",
      "a\n",
      "[3]\n"
     ]
    }
   ],
   "source": [
    "from itertools import permutations\n",
    "# 이건 순열로 풀어야겠다. 순서와 상관없고 경우를 따져야함 \n",
    "\n",
    "def solution(k, dungeons):\n",
    "    answer = -1\n",
    "    n = len(dungeons)\n",
    "    \n",
    "    for i in list(permutations(range(0, n), n)):  # n=3 이라면 (0, 1, 2),(0, 2, 1),(1, 0, 2),(1, 2, 0),(2, 0, 1),(2, 1, 0)  \n",
    "        count = 0\n",
    "        k_now = k  # 현재 k = 소모할 수 있는 피로도\n",
    "        for j in i :\n",
    "            if k_now >= dungeons[j][0]: # 진행 >> ex) (0, 1, 2) 라면 dungeons[0][0], dungeons[1][0] ....\n",
    "                k_now -= dungeons[j][1]  # 피로도 차감\n",
    "                count += 1\n",
    "        answer = max(answer, count)  # 반복을 통해 최대를 골라냄 \n",
    "    return answer\n"
   ]
  },
  {
   "cell_type": "markdown",
   "id": "02e4c442",
   "metadata": {},
   "source": [
    "## 이선우"
   ]
  },
  {
   "cell_type": "code",
   "execution_count": null,
   "id": "076527af",
   "metadata": {},
   "outputs": [],
   "source": [
    "from itertools import permutations\n",
    "\n",
    "def solution(k, dungeons): \n",
    "    answer=0\n",
    "    for p in permutations(dungeons, len(dungeons)):\n",
    "        count=0\n",
    "        now=k\n",
    "        for i,j in p:\n",
    "            if now >= i:\n",
    "                now -= j\n",
    "                count += 1\n",
    "        answer = max(answer,count)\n",
    "    return answer\n"
   ]
  },
  {
   "cell_type": "markdown",
   "id": "aaffcbcc",
   "metadata": {},
   "source": [
    "## 이민우"
   ]
  },
  {
   "cell_type": "code",
   "execution_count": 1,
   "id": "aca8d4d9",
   "metadata": {},
   "outputs": [],
   "source": [
    "from itertools import permutations\n",
    "def solution(k, dungeons):\n",
    "    per_dungeons =  permutations(dungeons,len(dungeons))\n",
    "    answer = []\n",
    "    for e in per_dungeons:\n",
    "        count = 0\n",
    "        for dungeon in e:\n",
    "            if dungeon[0] <= k:\n",
    "                if k >= dungeon[1]:\n",
    "                    k -= dungeon[1]\n",
    "                    count += 1\n",
    "                \n",
    "                    \n",
    "            else:\n",
    "                break\n",
    "        answer.append(count)\n",
    "    return max(answer)"
   ]
  },
  {
   "cell_type": "markdown",
   "id": "f7150113",
   "metadata": {},
   "source": [
    "## Test"
   ]
  },
  {
   "cell_type": "code",
   "execution_count": 2,
   "id": "cc3ff82e",
   "metadata": {
    "scrolled": false
   },
   "outputs": [
    {
     "name": "stdout",
     "output_type": "stream",
     "text": [
      "2\n"
     ]
    }
   ],
   "source": [
    "print(solution(80, [[80,20],[50,40],[30,10]]))"
   ]
  },
  {
   "cell_type": "markdown",
   "id": "fb184e74",
   "metadata": {},
   "source": [
    "# URL : https://school.programmers.co.kr/learn/courses/30/lessons/86971"
   ]
  },
  {
   "cell_type": "markdown",
   "id": "d7213e92",
   "metadata": {},
   "source": [
    "## 전력망을 둘로 나누기"
   ]
  },
  {
   "cell_type": "markdown",
   "id": "a8afe31e",
   "metadata": {},
   "source": [
    "## 모범 답안"
   ]
  },
  {
   "cell_type": "code",
   "execution_count": null,
   "id": "a9f3831d",
   "metadata": {},
   "outputs": [],
   "source": []
  },
  {
   "cell_type": "markdown",
   "id": "91bc0806",
   "metadata": {},
   "source": [
    "## 조성민"
   ]
  },
  {
   "cell_type": "code",
   "execution_count": 91,
   "id": "b4e06dff",
   "metadata": {},
   "outputs": [
    {
     "name": "stdout",
     "output_type": "stream",
     "text": [
      "3\n",
      "0\n",
      "1\n"
     ]
    }
   ],
   "source": [
    "def solution(n, wires):\n",
    "    answer = []\n",
    "    for idx in range(len(wires)):\n",
    "        wire_init = wires.copy() # 연결망 초기화\n",
    "        wire_init.pop(idx) # 1개 씩 연결 제거\n",
    "        \n",
    "        wire_init_init = wire_init.copy()\n",
    "        \n",
    "        a_set = set(wire_init_init.pop(0))\n",
    "        while wire_init_init:\n",
    "            wire = wire_init_init.pop(0)\n",
    "            if a_set & set(wire):\n",
    "                a_set = a_set.union(set(wire))\n",
    "                \n",
    "        answer.append(abs(len(a_set) - (n - len(a_set))))\n",
    "    return min(answer)\n",
    "            \n",
    "        \n",
    "print(solution(9, [[1,3],[2,3],[3,4],[4,5],[4,6],[4,7],[7,8],[7,9]]))\n",
    "print(solution(4, [[1,2],[2,3],[3,4]]))\n",
    "print(solution(7, [[1,2],[2,7],[3,7],[3,4],[4,5],[6,7]]))"
   ]
  },
  {
   "cell_type": "markdown",
   "id": "b657d3f8",
   "metadata": {},
   "source": [
    "## 심경민"
   ]
  },
  {
   "cell_type": "code",
   "execution_count": 49,
   "id": "65e2cf9f",
   "metadata": {},
   "outputs": [
    {
     "data": {
      "text/plain": [
       "[[2, 3], [3, 4], [4, 5], [4, 6], [4, 7], [7, 8], [7, 9]]"
      ]
     },
     "execution_count": 49,
     "metadata": {},
     "output_type": "execute_result"
    }
   ],
   "source": [
    "from collections import deque, defaultdict\n",
    "\n",
    "def bfs(start_v, graph, visit):\n",
    "    q = deque([start_v])   #시작 노드를 큐에 느 (방문처리)\n",
    "    visit[start_v] = 1    #시작 노드를 방문 처리\n",
    "    total = 1      # 시작노드랑 연결되어 있는 노드의 수 \n",
    "    \n",
    "    while q:\n",
    "        v = q.popleft()\n",
    "        \n",
    "        for nv in graph[v]:        #현재 노드 v와 인접된 노드 중 방문하지 않은 노드 탐색\n",
    "            if not visit[nv]:\n",
    "                q.append(nv)   # 방문처리 \n",
    "                visit[nv] = 1   # 방문했습니다 깃발 세워\n",
    "                total += 1     #새로운 노드를 방문 total 카운팅\n",
    "                \n",
    "    return total\n",
    "\n",
    "\n",
    "def solution(n, wires):\n",
    "    answer = n\n",
    "    \n",
    "    #전선을 하나씩 끊어내기 위해 deque으로 변환\n",
    "    d_wires = deque(wires)\n",
    "    \n",
    "    for _ in range(len(wires)):\n",
    "        broken_wire = d_wires.popleft()     #맨 앞의 전선을 끊는다\n",
    "        \n",
    "        visit = [0] * (n + 1)       #그래프 탐색을 위해 초기화\n",
    "        \n",
    "        tops = []  #두 전력망에 속하는 송전탑의 개수를 담는 배열\n",
    "        graph = defaultdict(list)  \n",
    "        #defaultdict와 일반적인 딕셔너리 생성 dict의 유일한 차이점은 만약 존재하지 않는 키가 주어진다면 defaultdict는 이 키와 인자에서 주어진 값으로 dict에 새로운 항목을 추가해준다는 것이다 [출처] [Python] defaultdict, Counter|작성자 밤톨\n",
    "\n",
    "            for v1, v2 in d_wires:\n",
    "            graph[v1].append(v2)\n",
    "            graph[v2].append(v1)\n",
    "            \n",
    "        #그래프 탐색\n",
    "        for v in range(1, n + 1):\n",
    "           #이전에 방문하지 않은 부모노드이면, 해당 부모노드를 기준으로 그래프 탐색을 시작한다\n",
    "            if not visit[v]:  # 방문하지 않았다면\n",
    "                tops.append(bfs(v, graph, visit))  # 돌려잇\n",
    "                \n",
    "        #두 전력망의 송전탑의 개수의 차보다 answer 값이 더 크다면, answer 값 갱신  # 차이가 별로 안나는 것 찾기 \n",
    "        answer = min(abs(tops[0] - tops[1]), answer)  # 절대값 함수 abs\n",
    "      \n",
    "        #끊은 전선을 다시 붙여준다\n",
    "        d_wires.append(broken_wire)\n",
    "        \n",
    "    return answer\n",
    "    \n",
    "#시간복잡도 = O(E(V+E)), 공간복잡도 = O(n)\n"
   ]
  },
  {
   "cell_type": "markdown",
   "id": "3b3e56af",
   "metadata": {},
   "source": [
    "## 이선우"
   ]
  },
  {
   "cell_type": "code",
   "execution_count": 3,
   "id": "af0decf5",
   "metadata": {},
   "outputs": [],
   "source": [
    "from collections import deque\n",
    "\n",
    "def bfs(v, n, grid):\n",
    "    cnt = 0  #방문한 노드의 개수\n",
    "    \n",
    "    queue = deque()\n",
    "    queue.append(v) #시작 노드를 인큐\n",
    "    \n",
    "    visited = [0 for _ in range(n+1)] #노드의 방문여부 저장\n",
    "    visited[v] = 1 #시작노드를 방문\n",
    "    \n",
    "    while queue:\n",
    "        v = queue.popleft()  #디큐\n",
    "        \n",
    "        for w in grid[v]:\n",
    "            if not visited[w]:   #방문을 안했다면,\n",
    "                visited[w] = 1   #방문해라\n",
    "                queue.append(w)  \n",
    "                cnt += 1  \n",
    "    \n",
    "    return cnt\n",
    "\n",
    "def solution(n, wires):\n",
    "    global answer\n",
    "    \n",
    "    # 인접 리스트  >> 연결된 전선 정보를 입력\n",
    "    grid = [[] for _ in range(n+1)]\n",
    "    \n",
    "    for i in range(n-1):  #wires의 개수만큼 순서 바꿔주기\n",
    "        grid[wires[i][0]].append(wires[i][1])\n",
    "        grid[wires[i][1]].append(wires[i][0])\n",
    "    \n",
    "    # 하나씩 연결을 끊고 개수 확인\n",
    "    for i in range(n-1):\n",
    "        grid[wires[i][0]].remove(wires[i][1])\n",
    "        grid[wires[i][1]].remove(wires[i][0])\n",
    "        \n",
    "        #끊긴 두 송전탑을 기준으로 전력망이 가진 송전탑의 개수를 bfs로 구함\n",
    "        cnt_node1 = bfs(wires[i][0], n, grid)\n",
    "        cnt_node2 = bfs(wires[i][1], n, grid)\n",
    "        \n",
    "        answer = min(answer, abs(cnt_node1 - cnt_node2))\n",
    "        \n",
    "        #끊긴 두 송전탑을 다시 연결해주고 다음 for문으로 넘어감\n",
    "        grid[wires[i][0]].append(wires[i][1])\n",
    "        grid[wires[i][1]].append(wires[i][0])\n",
    "    \n",
    "    return answer\n",
    "\n",
    "\n",
    "answer = float('inf')  #양의 무한대"
   ]
  },
  {
   "cell_type": "markdown",
   "id": "641a593d",
   "metadata": {},
   "source": [
    "## 이민우"
   ]
  },
  {
   "cell_type": "code",
   "execution_count": 14,
   "id": "557463fd",
   "metadata": {},
   "outputs": [
    {
     "name": "stdout",
     "output_type": "stream",
     "text": [
      "[0, 1, 2, 3, 4, 5, 6, 7, 8, 9]\n",
      "[0, 1, 2, 3, 4]\n",
      "[0, 1, 2, 3, 4, 5, 6, 7]\n"
     ]
    }
   ],
   "source": [
    "from collections import defaultdict\n",
    "import heapq\n",
    " \n",
    "def solution(n, wires):\n",
    "    answer = int(1e9)\n",
    "    parent = [int(i) for i in range(n + 1)]  # [0, 1, 2, 3, 4, 5, 6, 7, 8, 9]\n",
    "\n",
    "    def find(x):\n",
    "        if parent[x] == x:\n",
    "            return x\n",
    "        else:\n",
    "            parent[x] = find(parent[x])\n",
    "            return parent[x]\n",
    " \n",
    "    def union(x,y):\n",
    "        x = find(x)\n",
    "        y = find(y)\n",
    "        if x!=y:\n",
    "            parent[y] = x\n",
    " \n",
    "    for i in range(n-1):  # 연결망의 개수만큼 반복\n",
    "        parent = [int(i) for i in range(n + 1)]\n",
    "        cnt = defaultdict(int)\n",
    " \n",
    "        for _ in range(2):\n",
    "            for j in range(n-1):\n",
    "                if i == j:\n",
    "                    continue\n",
    "                if find(wires[j][0]) == find(wires[j][1]):\n",
    "                    continue\n",
    "                union(wires[j][0],wires[j][1])\n",
    " \n",
    "        for k in range(1,n+1):\n",
    "            cnt[parent[k]] += 1\n",
    " \n",
    "        cnt = list(cnt.values())\n",
    " \n",
    "        if len(cnt) == 2:\n",
    "            if abs(cnt[0]-cnt[1]) < answer:\n",
    "                answer = abs(cnt[0]-cnt[1])\n",
    " \n",
    "    return answer\n",
    "\n",
    "\n",
    "print(solution(9, [[1,3],[2,3],[3,4],[4,5],[4,6],[4,7],[7,8],[7,9]]))\n",
    "print(solution(4, [[1,2],[2,3],[3,4]]))\n",
    "print(solution(7, [[1,2],[2,7],[3,7],[3,4],[4,5],[6,7]]))"
   ]
  },
  {
   "cell_type": "markdown",
   "id": "36bf388b",
   "metadata": {},
   "source": [
    "## Test"
   ]
  },
  {
   "cell_type": "code",
   "execution_count": 80,
   "id": "836ce16d",
   "metadata": {},
   "outputs": [
    {
     "name": "stdout",
     "output_type": "stream",
     "text": [
      "(4, 3)\n",
      "(3, 3)\n",
      "(8, 6)\n"
     ]
    }
   ],
   "source": [
    "print(solution(9, [[1,3],[2,3],[3,4],[4,5],[4,6],[4,7],[7,8],[7,9]]))\n",
    "print(solution(4, [[1,2],[2,3],[3,4]]))\n",
    "print(solution(7, [[1,2],[2,7],[3,7],[3,4],[4,5],[6,7]]))"
   ]
  }
 ],
 "metadata": {
  "kernelspec": {
   "display_name": "Python 3 (ipykernel)",
   "language": "python",
   "name": "python3"
  },
  "language_info": {
   "codemirror_mode": {
    "name": "ipython",
    "version": 3
   },
   "file_extension": ".py",
   "mimetype": "text/x-python",
   "name": "python",
   "nbconvert_exporter": "python",
   "pygments_lexer": "ipython3",
   "version": "3.7.3"
  },
  "toc": {
   "base_numbering": 1,
   "nav_menu": {},
   "number_sections": true,
   "sideBar": true,
   "skip_h1_title": false,
   "title_cell": "Table of Contents",
   "title_sidebar": "Contents",
   "toc_cell": false,
   "toc_position": {},
   "toc_section_display": true,
   "toc_window_display": false
  }
 },
 "nbformat": 4,
 "nbformat_minor": 5
}
